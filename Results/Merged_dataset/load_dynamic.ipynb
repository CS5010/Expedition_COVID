{
  "nbformat": 4,
  "nbformat_minor": 0,
  "metadata": {
    "colab": {
      "name": "load_dynamic.ipynb",
      "provenance": []
    },
    "kernelspec": {
      "name": "python3",
      "display_name": "Python 3"
    },
    "language_info": {
      "name": "python"
    }
  },
  "cells": [
    {
      "cell_type": "code",
      "metadata": {
        "colab": {
          "base_uri": "https://localhost:8080/"
        },
        "id": "mwukxyjHJSq6",
        "outputId": "52d8d3b5-57a6-4263-c7ea-73060c9c4a41"
      },
      "source": [
        "import datetime\n",
        "import pandas as pd\n",
        "import numpy as np\n",
        "import matplotlib.pyplot as plt\n",
        "from google.colab import drive\n",
        "drive.mount('/content/drive')\n",
        "\n",
        "loaded_arr = np.loadtxt(\"/content/drive/MyDrive/GPCE/dynamic_features_raw.txt\")\n",
        "dynamic_features = loaded_arr.reshape(500,412,6)\n",
        "\n",
        "def array_to_df(np_array):\n",
        "  date_rng = pd.date_range(start='2020-02-28', end='2021-04-14', freq='D')\n",
        "  df = pd.DataFrame(np_array,columns=['Death', 'Case','Testing', 'Spread', 'Distancing', 'Transmissible'])\n",
        "  df = df.set_index(date_rng)\n",
        "  return df"
      ],
      "execution_count": 1,
      "outputs": [
        {
          "output_type": "stream",
          "text": [
            "Mounted at /content/drive\n"
          ],
          "name": "stdout"
        }
      ]
    },
    {
      "cell_type": "markdown",
      "metadata": {
        "id": "iKwmzOKQKURF"
      },
      "source": [
        "Convert to Pandas dataframe"
      ]
    },
    {
      "cell_type": "code",
      "metadata": {
        "id": "tjhd4HUeQU0q",
        "colab": {
          "base_uri": "https://localhost:8080/",
          "height": 423
        },
        "outputId": "bf16176b-6339-43ec-97cf-65dffce274c9"
      },
      "source": [
        "# convert the first county (los angeles) to pandas data frame:\n",
        "\n",
        "df = array_to_df(dynamic_features[0] )\n",
        "df"
      ],
      "execution_count": 3,
      "outputs": [
        {
          "output_type": "execute_result",
          "data": {
            "text/html": [
              "<div>\n",
              "<style scoped>\n",
              "    .dataframe tbody tr th:only-of-type {\n",
              "        vertical-align: middle;\n",
              "    }\n",
              "\n",
              "    .dataframe tbody tr th {\n",
              "        vertical-align: top;\n",
              "    }\n",
              "\n",
              "    .dataframe thead th {\n",
              "        text-align: right;\n",
              "    }\n",
              "</style>\n",
              "<table border=\"1\" class=\"dataframe\">\n",
              "  <thead>\n",
              "    <tr style=\"text-align: right;\">\n",
              "      <th></th>\n",
              "      <th>Death</th>\n",
              "      <th>Case</th>\n",
              "      <th>Testing</th>\n",
              "      <th>Spread</th>\n",
              "      <th>Distancing</th>\n",
              "      <th>Transmissible</th>\n",
              "    </tr>\n",
              "  </thead>\n",
              "  <tbody>\n",
              "    <tr>\n",
              "      <th>2020-02-28</th>\n",
              "      <td>0.0</td>\n",
              "      <td>0.0</td>\n",
              "      <td>0.000000</td>\n",
              "      <td>0.000000</td>\n",
              "      <td>1.000</td>\n",
              "      <td>0.000000</td>\n",
              "    </tr>\n",
              "    <tr>\n",
              "      <th>2020-02-29</th>\n",
              "      <td>0.0</td>\n",
              "      <td>0.0</td>\n",
              "      <td>0.000000</td>\n",
              "      <td>0.000000</td>\n",
              "      <td>1.000</td>\n",
              "      <td>0.000000</td>\n",
              "    </tr>\n",
              "    <tr>\n",
              "      <th>2020-03-01</th>\n",
              "      <td>0.0</td>\n",
              "      <td>0.0</td>\n",
              "      <td>0.000000</td>\n",
              "      <td>0.000000</td>\n",
              "      <td>1.000</td>\n",
              "      <td>0.000000</td>\n",
              "    </tr>\n",
              "    <tr>\n",
              "      <th>2020-03-02</th>\n",
              "      <td>0.0</td>\n",
              "      <td>0.0</td>\n",
              "      <td>0.000000</td>\n",
              "      <td>0.000000</td>\n",
              "      <td>1.000</td>\n",
              "      <td>0.000000</td>\n",
              "    </tr>\n",
              "    <tr>\n",
              "      <th>2020-03-03</th>\n",
              "      <td>0.0</td>\n",
              "      <td>0.0</td>\n",
              "      <td>0.000000</td>\n",
              "      <td>0.000000</td>\n",
              "      <td>1.000</td>\n",
              "      <td>0.000000</td>\n",
              "    </tr>\n",
              "    <tr>\n",
              "      <th>...</th>\n",
              "      <td>...</td>\n",
              "      <td>...</td>\n",
              "      <td>...</td>\n",
              "      <td>...</td>\n",
              "      <td>...</td>\n",
              "      <td>...</td>\n",
              "    </tr>\n",
              "    <tr>\n",
              "      <th>2021-04-10</th>\n",
              "      <td>36.0</td>\n",
              "      <td>752.0</td>\n",
              "      <td>0.468799</td>\n",
              "      <td>0.026328</td>\n",
              "      <td>1.000</td>\n",
              "      <td>0.456704</td>\n",
              "    </tr>\n",
              "    <tr>\n",
              "      <th>2021-04-11</th>\n",
              "      <td>26.0</td>\n",
              "      <td>497.0</td>\n",
              "      <td>0.469694</td>\n",
              "      <td>0.026129</td>\n",
              "      <td>1.000</td>\n",
              "      <td>0.436832</td>\n",
              "    </tr>\n",
              "    <tr>\n",
              "      <th>2021-04-12</th>\n",
              "      <td>10.0</td>\n",
              "      <td>423.0</td>\n",
              "      <td>0.469982</td>\n",
              "      <td>0.026710</td>\n",
              "      <td>0.825</td>\n",
              "      <td>0.446045</td>\n",
              "    </tr>\n",
              "    <tr>\n",
              "      <th>2021-04-13</th>\n",
              "      <td>2.0</td>\n",
              "      <td>408.0</td>\n",
              "      <td>0.471619</td>\n",
              "      <td>0.027602</td>\n",
              "      <td>0.825</td>\n",
              "      <td>0.446228</td>\n",
              "    </tr>\n",
              "    <tr>\n",
              "      <th>2021-04-14</th>\n",
              "      <td>48.0</td>\n",
              "      <td>337.0</td>\n",
              "      <td>0.466064</td>\n",
              "      <td>0.026635</td>\n",
              "      <td>0.825</td>\n",
              "      <td>0.426473</td>\n",
              "    </tr>\n",
              "  </tbody>\n",
              "</table>\n",
              "<p>412 rows × 6 columns</p>\n",
              "</div>"
            ],
            "text/plain": [
              "            Death   Case   Testing    Spread  Distancing  Transmissible\n",
              "2020-02-28    0.0    0.0  0.000000  0.000000       1.000       0.000000\n",
              "2020-02-29    0.0    0.0  0.000000  0.000000       1.000       0.000000\n",
              "2020-03-01    0.0    0.0  0.000000  0.000000       1.000       0.000000\n",
              "2020-03-02    0.0    0.0  0.000000  0.000000       1.000       0.000000\n",
              "2020-03-03    0.0    0.0  0.000000  0.000000       1.000       0.000000\n",
              "...           ...    ...       ...       ...         ...            ...\n",
              "2021-04-10   36.0  752.0  0.468799  0.026328       1.000       0.456704\n",
              "2021-04-11   26.0  497.0  0.469694  0.026129       1.000       0.436832\n",
              "2021-04-12   10.0  423.0  0.469982  0.026710       0.825       0.446045\n",
              "2021-04-13    2.0  408.0  0.471619  0.027602       0.825       0.446228\n",
              "2021-04-14   48.0  337.0  0.466064  0.026635       0.825       0.426473\n",
              "\n",
              "[412 rows x 6 columns]"
            ]
          },
          "metadata": {
            "tags": []
          },
          "execution_count": 3
        }
      ]
    }
  ]
}