{
  "nbformat": 4,
  "nbformat_minor": 0,
  "metadata": {
    "colab": {
      "name": "outlier.ipynb",
      "provenance": []
    },
    "kernelspec": {
      "name": "python3",
      "display_name": "Python 3"
    },
    "language_info": {
      "name": "python"
    },
    "accelerator": "GPU"
  },
  "cells": [
    {
      "cell_type": "code",
      "metadata": {
        "colab": {
          "base_uri": "https://localhost:8080/"
        },
        "id": "S5rT36YUXky0",
        "outputId": "eaa1af6a-aba0-4f37-bb68-168c1f5058dc"
      },
      "source": [
        "import datetime\n",
        "import pandas as pd\n",
        "import numpy as np\n",
        "import matplotlib.pyplot as plt\n",
        "from google.colab import drive\n",
        "drive.mount('/content/drive')\n",
        "PATH = '/content/drive/MyDrive/Colab Datasets/COVIDJuly2020/CovidApril14-2021'\n",
        "\n",
        "\n",
        "dict = {}\n",
        "dict['death'] = pd.read_csv(PATH+'/US_daily_cumulative_deaths_April14.csv',index_col='FIPS')\n",
        "dict['case'] = pd.read_csv(PATH+'/US_daily_cumulative_cases_April14.csv',index_col='FIPS')\n",
        "dict['Transmissible'] = pd.read_csv(PATH+'/Transmissible Cases.csv',index_col='FIPS').drop('Name', 1)\n",
        "dict['Testing'] = pd.read_csv(PATH+'/Testing.csv',index_col='FIPS').drop('Name', 1)\n",
        "dict['Density'] = pd.read_csv(PATH+'/Residential Density.csv',index_col='FIPS').drop('Name', 1)\n",
        "dict['Mobility'] = pd.read_csv(PATH+'/Mobility.csv',index_col='FIPS').drop('Name', 1)\n",
        "dict['Beds'] = pd.read_csv(PATH+'/Hospital Beds.csv',index_col='FIPS').drop('Name', 1)\n",
        "\n",
        "df_population = pd.read_csv(PATH+'/Population.csv')\n",
        "\n",
        "# **Transpose** the dataframes and convert to **time series**\n",
        "for key in dict:\n",
        "  df = dict[key].transpose() # Transpose\n",
        "  dict[key] = df.set_index(pd.to_datetime(df.index)) # convert to time series\n",
        "\n",
        "df_death = dict['death'].diff()\n",
        "\n",
        "\n",
        "# Most populous county\n",
        "#The output result is the same as Wikipedia\n",
        "#https://en.wikipedia.org/wiki/List_of_the_most_populous_counties_in_the_United_States\n",
        "\n",
        "def nlargest_county( df_population, n =10):\n",
        "\n",
        "  #Find the n counties with the largest population from the \"Population.csv\" data set, and return their FIPS codes and names\n",
        "  a = df_population.nlargest(n, 'POPESTIMATE2019', keep='first')\n",
        "  FIPS_code = a['FIPS'].values.tolist()\n",
        "  name = a['COUNTY'].values.tolist()\n",
        "  return FIPS_code, name\n",
        "\n",
        "\n",
        "def get_name(FIPS = 6037):\n",
        "  return df_population[df_population.FIPS == FIPS]['COUNTY'].values[0]"
      ],
      "execution_count": null,
      "outputs": [
        {
          "output_type": "stream",
          "text": [
            "Mounted at /content/drive\n"
          ],
          "name": "stdout"
        }
      ]
    },
    {
      "cell_type": "code",
      "metadata": {
        "id": "rPNSEUMuFcoj"
      },
      "source": [
        "FIGPATH = '/content/drive/MyDrive/GPCE/Figures/'\n",
        "\n",
        "def find_outlier(df, number = 0, FIPS = 6037, window_size = 14, threshold = 3):\n",
        "  a = df[FIPS]\n",
        "  a = a[40:] #  start from Mar 1,2021\n",
        "  a[a < 0] = 0 # replace negative numbers in Pandas Data Frame by zero\n",
        "  b = a.rolling(window_size, center=True).mean()\n",
        "  d = a.rolling(window_size, center=True).std()\n",
        "  name = get_name(FIPS = FIPS)\n",
        "  #c =  (((a-b)/b)>threshold) & (a>10)\n",
        "  c =  ( a-b>threshold*d  ) & (a>10)\n",
        "\n",
        "\n",
        "  a.plot( title=name)\n",
        "  try:\n",
        "    (a[ c  ]).plot(style='rx')\n",
        "  except ValueError:\n",
        "    pass\n",
        "\n",
        "  plt.savefig(FIGPATH+str(number)+' '+name+'.png')\n",
        "  plt.clf()\n",
        "\n",
        "\n",
        "n =100\n",
        "FIPS_code, name = nlargest_county( df_population, n =n)\n",
        "for i in range(n):\n",
        "  find_outlier(df_death ,number = i, FIPS = FIPS_code[i], window_size = 15, threshold = 3)\n"
      ],
      "execution_count": null,
      "outputs": []
    }
  ]
}