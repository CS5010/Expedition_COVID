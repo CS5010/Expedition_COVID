{
 "cells": [
  {
   "cell_type": "code",
   "execution_count": 1,
   "outputs": [
    {
     "name": "stdout",
     "output_type": "stream",
     "text": [
      "/Users/andrejerkelens/Desktop/GPCE/gpce-covid/v0/script\n"
     ]
    }
   ],
   "source": [
    "%cd ../script"
   ],
   "metadata": {
    "collapsed": false,
    "pycharm": {
     "name": "#%%\n"
    }
   }
  },
  {
   "cell_type": "code",
   "execution_count": null,
   "outputs": [],
   "source": [
    "# import IPython\n",
    "# IPython.Application.instance().kernel.do_shutdown(True)"
   ],
   "metadata": {
    "collapsed": false,
    "pycharm": {
     "name": "#%%\n"
    }
   }
  },
  {
   "cell_type": "code",
   "execution_count": 2,
   "id": "48a0cb62",
   "metadata": {
    "pycharm": {
     "name": "#%%\n"
    }
   },
   "outputs": [],
   "source": [
    "import tensorflow as tf\n",
    "import os, gc, json\n",
    "import pandas as pd\n",
    "from pandas import to_datetime\n",
    "from utils import train_validation_test_split\n",
    "import argparse\n",
    "from utils import scale_back, calculate_result, sumCases\n",
    "\n",
    "# For plotting\n",
    "import matplotlib.pyplot as plt\n",
    "import seaborn as sns\n",
    "# Apply the default theme\n",
    "sns.set_theme()\n",
    "sns.set(font_scale = 1.5)\n",
    "\n",
    "import sys\n",
    "sys.path.append( '..' )\n",
    "from Class.Trainer import Trainer\n",
    "from Class.ParameterManager import ParameterManager\n",
    "from Class.DataProcessor import DataProcessor\n",
    "from Class.Plotter import PlotResults, PlotWeights"
   ]
  },
  {
   "cell_type": "code",
   "execution_count": 3,
   "id": "eddcf535",
   "metadata": {
    "pycharm": {
     "name": "#%%\n"
    }
   },
   "outputs": [],
   "source": [
    "checkpoint_folder = '../output/checkpoints'"
   ]
  },
  {
   "cell_type": "code",
   "execution_count": 4,
   "id": "6dc5efe6",
   "metadata": {
    "pycharm": {
     "name": "#%%\n"
    }
   },
   "outputs": [],
   "source": [
    "figure_folder = os.path.join('../output','figures')"
   ]
  },
  {
   "cell_type": "code",
   "execution_count": 5,
   "id": "26ff8ee6",
   "metadata": {
    "pycharm": {
     "name": "#%%\n"
    }
   },
   "outputs": [],
   "source": [
    "if not os.path.exists(checkpoint_folder):\n",
    "        os.makedirs(checkpoint_folder, exist_ok=True)\n",
    "\n",
    "if not os.path.exists(figure_folder):\n",
    "    os.makedirs(figure_folder, exist_ok=True)"
   ]
  },
  {
   "cell_type": "code",
   "execution_count": 6,
   "id": "cba20b4f",
   "metadata": {
    "pycharm": {
     "name": "#%%\n"
    }
   },
   "outputs": [
    {
     "name": "stdout",
     "output_type": "stream",
     "text": [
      "Loading config.json from ../config_2022_May.json\n"
     ]
    }
   ],
   "source": [
    "print(f'Loading config.json from ../config_2022_May.json')\n",
    "with open('../config_2022_May.json') as inputfile:\n",
    "    config = json.load(inputfile)\n",
    "    inputfile.close()"
   ]
  },
  {
   "cell_type": "code",
   "execution_count": 7,
   "id": "cc967778",
   "metadata": {
    "pycharm": {
     "name": "#%%\n"
    }
   },
   "outputs": [
    {
     "name": "stdout",
     "output_type": "stream",
     "text": [
      "Num GPUs Available:  1\n"
     ]
    }
   ],
   "source": [
    "print(\"Num GPUs Available: \", len(tf.config.list_physical_devices('GPU')))"
   ]
  },
  {
   "cell_type": "code",
   "execution_count": 8,
   "id": "162444b5",
   "metadata": {
    "pycharm": {
     "name": "#%%\n"
    }
   },
   "outputs": [],
   "source": [
    "dataPath = '../2022_May/Population_cut.csv'"
   ]
  },
  {
   "cell_type": "code",
   "execution_count": 9,
   "id": "a6084939",
   "metadata": {
    "pycharm": {
     "name": "#%%\n"
    }
   },
   "outputs": [
    {
     "name": "stdout",
     "output_type": "stream",
     "text": [
      "Loading input data from ../2022_May/Population_cut.csv\n",
      "Input feature file shape (405000, 21)\n"
     ]
    }
   ],
   "source": [
    "print(f'Loading input data from {dataPath}')\n",
    "df = pd.read_csv(dataPath)\n",
    "print(f'Input feature file shape {df.shape}')"
   ]
  },
  {
   "cell_type": "code",
   "execution_count": 10,
   "id": "87d48331",
   "metadata": {
    "pycharm": {
     "name": "#%%\n"
    }
   },
   "outputs": [],
   "source": [
    "df['Date'] = to_datetime(df['Date']) \n",
    "df['FIPS'] = df['FIPS'].astype(str)"
   ]
  },
  {
   "cell_type": "code",
   "execution_count": 11,
   "id": "7209ccba",
   "metadata": {
    "pycharm": {
     "name": "#%%\n"
    }
   },
   "outputs": [],
   "source": [
    "parameterManager = ParameterManager(config)"
   ]
  },
  {
   "cell_type": "code",
   "execution_count": 12,
   "id": "27564be0",
   "metadata": {},
   "outputs": [
    {
     "data": {
      "text/plain": "Index(['FIPS', 'AgeDist', 'AirPollution', 'HealthDisp', 'Name', 'Date',\n       'DiseaseSpread', 'Transmission', 'VaccinationFull', 'SocialDist',\n       'Cases', 'Deaths', 'TimeFromStart', 'LinearSpace', 'Constant',\n       'LinearTime', 'P2Time', 'P3Time', 'P4Time', 'CosWeekly', 'SinWeekly'],\n      dtype='object')"
     },
     "execution_count": 12,
     "metadata": {},
     "output_type": "execute_result"
    }
   ],
   "source": [
    "df.columns"
   ]
  },
  {
   "cell_type": "code",
   "execution_count": 13,
   "id": "37a95846",
   "metadata": {
    "pycharm": {
     "name": "#%%\n"
    }
   },
   "outputs": [
    {
     "name": "stdout",
     "output_type": "stream",
     "text": [
      "Column mappings: {'Static': ['AgeDist', 'AirPollution', 'HealthDisp'], 'ID': ['FIPS'], 'Time': ['TimeFromStart'], 'Target': ['Cases', 'Deaths'], 'Future': ['LinearSpace', 'Constant', 'LinearTime', 'P2Time', 'P3Time', 'P4Time', 'CosWeekly', 'SinWeekly'], 'Known Regular': ['AgeDist', 'AirPollution', 'HealthDisp', 'DiseaseSpread', 'Transmission', 'VaccinationFull', 'SocialDist']}\n",
      "\n",
      "Number train data is 320000, validation 41000, test 44000\n"
     ]
    },
    {
     "data": {
      "text/plain": "0"
     },
     "execution_count": 13,
     "metadata": {},
     "output_type": "execute_result"
    }
   ],
   "source": [
    "print(f'Column mappings: {parameterManager.col_mappings}\\n')\n",
    "\n",
    "\"\"\"# Train validation split and Scaling\"\"\"\n",
    "train_data, validation_data, test_data, target_scaler = train_validation_test_split(df, parameterManager, scale=True)\n",
    "print(f'Number train data is {train_data.shape[0]}, validation {validation_data.shape[0]}, test {test_data.shape[0]}')\n",
    "\n",
    "gc.collect()"
   ]
  },
  {
   "cell_type": "code",
   "execution_count": 14,
   "id": "4028866a",
   "metadata": {
    "pycharm": {
     "name": "#%%\n"
    }
   },
   "outputs": [
    {
     "name": "stdout",
     "output_type": "stream",
     "text": [
      "Metal device set to: Apple M1 Pro\n"
     ]
    },
    {
     "name": "stderr",
     "output_type": "stream",
     "text": [
      "2022-07-23 16:46:11.998101: I tensorflow/core/common_runtime/pluggable_device/pluggable_device_factory.cc:305] Could not identify NUMA node of platform GPU ID 0, defaulting to 0. Your kernel may not have been built with NUMA support.\n",
      "2022-07-23 16:46:11.998324: I tensorflow/core/common_runtime/pluggable_device/pluggable_device_factory.cc:271] Created TensorFlow device (/job:localhost/replica:0/task:0/device:GPU:0 with 0 MB memory) -> physical PluggableDevice (device: 0, name: METAL, pci bus id: <undefined>)\n"
     ]
    }
   ],
   "source": [
    "trainer = Trainer(parameterManager)\n",
    "model = trainer.create_model()\n",
    "\n",
    "optimizer_params = parameterManager.optimizer_params\n",
    "optimizer = tf.keras.optimizers.Adam(\n",
    "    learning_rate=optimizer_params['learning_rate'], clipnorm=optimizer_params['clipnorm']\n",
    ")"
   ]
  },
  {
   "cell_type": "code",
   "execution_count": 15,
   "outputs": [
    {
     "data": {
      "text/plain": "'../output/checkpoints'"
     },
     "execution_count": 15,
     "metadata": {},
     "output_type": "execute_result"
    }
   ],
   "source": [
    "checkpoint_folder"
   ],
   "metadata": {
    "collapsed": false,
    "pycharm": {
     "name": "#%%\n"
    }
   }
  },
  {
   "cell_type": "code",
   "execution_count": 16,
   "id": "ec179fdd",
   "metadata": {
    "pycharm": {
     "name": "#%%\n"
    }
   },
   "outputs": [
    {
     "name": "stdout",
     "output_type": "stream",
     "text": [
      "Checkpoint restored from ../output/checkpoints/ckpt-8\n"
     ]
    }
   ],
   "source": [
    "checkpoint = tf.train.Checkpoint(model=model, optimizer=optimizer)\n",
    "checkpointManager = tf.train.CheckpointManager(checkpoint, checkpoint_folder, max_to_keep=1)\n",
    "\n",
    "model = trainer.load_from_checkpoint(checkpoint, checkpointManager.latest_checkpoint)\n",
    "if model is None:\n",
    "    sys.exit(-1)"
   ]
  },
  {
   "cell_type": "code",
   "execution_count": 17,
   "id": "5c4a3ce3",
   "metadata": {
    "pycharm": {
     "name": "#%%\n"
    }
   },
   "outputs": [
    {
     "name": "stderr",
     "output_type": "stream",
     "text": [
      "2022-07-23 16:46:35.515457: W tensorflow/core/platform/profile_utils/cpu_utils.cc:128] Failed to get CPU frequency: 0 Hz\n",
      "2022-07-23 16:46:35.517389: I tensorflow/core/grappler/optimizers/custom_graph_optimizer_registry.cc:113] Plugin optimizer for device_type GPU is enabled.\n",
      "2022-07-23 16:46:36.898631: I tensorflow/core/grappler/optimizers/custom_graph_optimizer_registry.cc:113] Plugin optimizer for device_type GPU is enabled.\n",
      "2022-07-23 16:46:36.958506: I tensorflow/core/grappler/optimizers/custom_graph_optimizer_registry.cc:113] Plugin optimizer for device_type GPU is enabled.\n",
      "2022-07-23 16:51:14.432825: I tensorflow/core/grappler/optimizers/custom_graph_optimizer_registry.cc:113] Plugin optimizer for device_type GPU is enabled.\n",
      "2022-07-23 16:51:16.429148: I tensorflow/core/grappler/optimizers/custom_graph_optimizer_registry.cc:113] Plugin optimizer for device_type GPU is enabled.\n",
      "2022-07-23 16:51:16.578142: I tensorflow/core/grappler/optimizers/custom_graph_optimizer_registry.cc:113] Plugin optimizer for device_type GPU is enabled.\n"
     ]
    },
    {
     "name": "stdout",
     "output_type": "stream",
     "text": [
      "Train MAE [728.6282, 6.9243], RMSE [1015.3225, 13.0028], SMAPE [1.5761, 1.6715]\n"
     ]
    },
    {
     "data": {
      "text/plain": "0"
     },
     "execution_count": 17,
     "metadata": {},
     "output_type": "execute_result"
    }
   ],
   "source": [
    "dataProcessor = DataProcessor(\n",
    "    parameterManager.total_sequence_length, parameterManager.col_mappings, parameterManager.data_params\n",
    ")\n",
    "\"\"\"### Train\"\"\"\n",
    "train_batch = dataProcessor.prepare_batch(train_data)\n",
    "train_preds, train_actuals, train_attn_weights = trainer.predict(model, train_batch)\n",
    "\n",
    "train_actuals = scale_back(train_actuals, target_scaler, parameterManager.target_sequence_length)\n",
    "train_preds = scale_back(train_preds, target_scaler, parameterManager.target_sequence_length)\n",
    "\n",
    "train_mae, train_rmse, train_smape = calculate_result(train_actuals, train_preds, split=True)\n",
    "print(f'Train MAE {train_mae}, RMSE {train_rmse}, SMAPE {train_smape}')\n",
    "gc.collect()"
   ]
  },
  {
   "cell_type": "code",
   "execution_count": null,
   "id": "46398ace",
   "metadata": {
    "pycharm": {
     "name": "#%%\n",
     "is_executing": true
    }
   },
   "outputs": [],
   "source": [
    "\"\"\"### Validation\"\"\"\n",
    "validation_batch = dataProcessor.prepare_batch(validation_data)\n",
    "validation_preds, validation_actuals, _ = trainer.predict(model, validation_batch)\n",
    "\n",
    "validation_preds = scale_back(validation_preds, target_scaler, parameterManager.target_sequence_length)\n",
    "validation_actuals = scale_back(validation_actuals,  target_scaler, parameterManager.target_sequence_length)\n",
    "\n",
    "validation_mae, validation_rmse, validation_smape = calculate_result(validation_actuals, validation_preds, split=True)\n",
    "print(f'Validation MAE {validation_mae}, RMSE {validation_rmse}, SMAPE {validation_smape}')"
   ]
  },
  {
   "cell_type": "code",
   "execution_count": null,
   "id": "c821d074",
   "metadata": {
    "pycharm": {
     "name": "#%%\n"
    },
    "scrolled": false
   },
   "outputs": [],
   "source": [
    "\"\"\"### Test\"\"\"\n",
    "\n",
    "test_batch = dataProcessor.prepare_batch(test_data)\n",
    "test_preds, test_actuals, _ = trainer.predict(model, test_batch)\n",
    "\n",
    "test_actuals = scale_back(test_actuals, target_scaler, parameterManager.target_sequence_length) \n",
    "test_preds = scale_back(test_preds, target_scaler, parameterManager.target_sequence_length)\n",
    "\n",
    "test_mae, test_rmse, test_smape = calculate_result(test_actuals, test_preds, split=True)\n",
    "print(f'Test MAE {test_mae}, RMSE {test_rmse}, SMAPE {test_smape}')\n",
    "\n",
    "#del model\n",
    "gc.collect()"
   ]
  },
  {
   "cell_type": "code",
   "execution_count": null,
   "id": "9b25ca14",
   "metadata": {
    "pycharm": {
     "name": "#%%\n"
    }
   },
   "outputs": [],
   "source": [
    "number_of_locations = df[parameterManager.col_mappings['ID']].nunique().values[0]\n",
    "print(f'Number of locations {number_of_locations}')\n",
    "locs = df[parameterManager.col_mappings['ID']].iloc[:number_of_locations, 0].values"
   ]
  },
  {
   "cell_type": "code",
   "execution_count": null,
   "outputs": [],
   "source": [
    "[str(target) for target in parameterManager.target_column]"
   ],
   "metadata": {
    "collapsed": false,
    "pycharm": {
     "name": "#%%\n"
    }
   }
  },
  {
   "cell_type": "code",
   "execution_count": null,
   "id": "1f9ce683",
   "metadata": {
    "pycharm": {
     "name": "#%%\n"
    }
   },
   "outputs": [],
   "source": [
    "\"\"\"\n",
    "Test prediction\n",
    "\"\"\"\n",
    "targets, predictions = sumCases(train_actuals,train_preds, number_of_locations)\n",
    "\n",
    "PlotC = PlotResults(targets, predictions, parameterManager.train_start, locs, figure_folder, parameterManager.target_column)\n",
    "plot_titles = [f'Summed plot (Validation) MAE {mae:0.3f}, RMSE {rmse:0.3f}, SMAPE {smape:0.3f}' for mae,rmse,smape in zip(validation_mae, validation_rmse, validation_smape)]\n",
    "figure_names = ['Summed validation: ' + str(target) for target in parameterManager.target_column]"
   ]
  },
  {
   "cell_type": "code",
   "execution_count": null,
   "id": "0d6efbc5",
   "metadata": {
    "pycharm": {
     "name": "#%%\n"
    }
   },
   "outputs": [],
   "source": [
    "PlotC.makeSummedPlot(plot_titles, figure_names=figure_names)"
   ]
  },
  {
   "cell_type": "code",
   "execution_count": null,
   "outputs": [],
   "source": [
    "import numpy as np"
   ],
   "metadata": {
    "collapsed": false,
    "pycharm": {
     "name": "#%%\n"
    }
   }
  },
  {
   "cell_type": "code",
   "execution_count": null,
   "outputs": [],
   "source": [
    "parameterManager.train_start + np.timedelta()"
   ],
   "metadata": {
    "collapsed": false,
    "pycharm": {
     "name": "#%%\n"
    }
   }
  },
  {
   "cell_type": "code",
   "execution_count": null,
   "outputs": [],
   "source": [
    "parameterManager.train_start"
   ],
   "metadata": {
    "collapsed": false,
    "pycharm": {
     "name": "#%%\n"
    }
   }
  },
  {
   "cell_type": "code",
   "execution_count": null,
   "outputs": [],
   "source": [
    "import numpy as np"
   ],
   "metadata": {
    "collapsed": false,
    "pycharm": {
     "name": "#%%\n"
    }
   }
  },
  {
   "cell_type": "code",
   "execution_count": null,
   "outputs": [],
   "source": [
    "[parameterManager.train_start + np.timedelta64(days, 'D') for days in range(627)]"
   ],
   "metadata": {
    "collapsed": false,
    "pycharm": {
     "name": "#%%\n"
    }
   }
  },
  {
   "cell_type": "code",
   "execution_count": null,
   "outputs": [],
   "source": [
    "targets.shape"
   ],
   "metadata": {
    "collapsed": false,
    "pycharm": {
     "name": "#%%\n"
    }
   }
  },
  {
   "cell_type": "code",
   "execution_count": null,
   "outputs": [],
   "source": [
    "np.sum(targets, axis=0).reshape(-1, len(parameterManager.target_column)).shape"
   ],
   "metadata": {
    "collapsed": false,
    "pycharm": {
     "name": "#%%\n"
    }
   }
  },
  {
   "cell_type": "code",
   "execution_count": null,
   "outputs": [],
   "source": [],
   "metadata": {
    "collapsed": false,
    "pycharm": {
     "name": "#%%\n"
    }
   }
  },
  {
   "cell_type": "code",
   "execution_count": null,
   "id": "d4e35e6a",
   "metadata": {
    "pycharm": {
     "name": "#%%\n"
    }
   },
   "outputs": [],
   "source": [
    "targets, predictions = sumCases(train_actuals, train_preds, number_of_locations)\n",
    "\n",
    "resultPlotter = PlotResults(targets, predictions, parameterManager.train_start, locs, figure_folder)\n",
    "plot_title = f'Summed plot (train) MAE {train_mae:0.3f}, RMSE {train_rmse:0.3f}'\n",
    "\n",
    "resultPlotter.makeSummedPlot(plot_title, figure_name='Summed plot - train', figsize=(24, 8))"
   ]
  },
  {
   "cell_type": "code",
   "execution_count": null,
   "id": "f80d41ad",
   "metadata": {
    "pycharm": {
     "name": "#%%\n"
    }
   },
   "outputs": [],
   "source": [
    "df.groupby('Date').sum()['Cases']"
   ]
  },
  {
   "cell_type": "code",
   "execution_count": null,
   "outputs": [],
   "source": [],
   "metadata": {
    "collapsed": false,
    "pycharm": {
     "name": "#%%\n"
    }
   }
  },
  {
   "cell_type": "code",
   "execution_count": null,
   "outputs": [],
   "source": [],
   "metadata": {
    "collapsed": false,
    "pycharm": {
     "name": "#%%\n"
    }
   }
  }
 ],
 "metadata": {
  "kernelspec": {
   "display_name": "env",
   "language": "python",
   "name": "env"
  },
  "language_info": {
   "codemirror_mode": {
    "name": "ipython",
    "version": 3
   },
   "file_extension": ".py",
   "mimetype": "text/x-python",
   "name": "python",
   "nbconvert_exporter": "python",
   "pygments_lexer": "ipython3",
   "version": "3.8.12"
  }
 },
 "nbformat": 4,
 "nbformat_minor": 5
}