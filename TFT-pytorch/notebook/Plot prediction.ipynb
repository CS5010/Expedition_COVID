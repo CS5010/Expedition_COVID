{
 "cells": [
  {
   "cell_type": "code",
   "execution_count": null,
   "metadata": {},
   "outputs": [],
   "source": [
    "import pandas as pd\n",
    "pd.set_option('display.max_columns', None)\n",
    "import os"
   ]
  },
  {
   "cell_type": "code",
   "execution_count": null,
   "metadata": {},
   "outputs": [],
   "source": [
    "targets = ['Cases', 'Deaths']\n",
    "result_folder = '../results/total_target_cleaned_scaled'\n",
    "figPath = os.path.join(result_folder, 'figures_best')"
   ]
  },
  {
   "cell_type": "code",
   "execution_count": null,
   "metadata": {},
   "outputs": [],
   "source": [
    "results = pd.read_csv(os.path.join(figPath, 'predictions_case_death.csv'))\n",
    "results.head()"
   ]
  },
  {
   "cell_type": "code",
   "execution_count": null,
   "metadata": {},
   "outputs": [],
   "source": [
    "import sys\n",
    "sys.path.append('..')\n",
    "\n",
    "from Class.Plotter import *\n",
    "\n",
    "plotter = PlotResults(figPath, targets)"
   ]
  },
  {
   "cell_type": "code",
   "execution_count": null,
   "metadata": {},
   "outputs": [],
   "source": [
    "plotter.summed_plot(results[results['split']=='train'], type='Train', save=False)"
   ]
  },
  {
   "cell_type": "code",
   "execution_count": null,
   "metadata": {},
   "outputs": [],
   "source": [
    "plotter.summed_plot(results[results['split']=='validation'], type='Valiadtion', save=False)"
   ]
  },
  {
   "cell_type": "code",
   "execution_count": null,
   "metadata": {},
   "outputs": [],
   "source": [
    "plotter.summed_plot(results[results['split']=='test'], type='Test', save=False)"
   ]
  },
  {
   "cell_type": "code",
   "execution_count": null,
   "metadata": {},
   "outputs": [],
   "source": [
    "# def format(value):\n",
    "#     if value < 1:\n",
    "#         if value > 1e-4:\n",
    "#             print(1)\n",
    "#             return f'{round(value, 4):0.4g}'\n",
    "#         else:\n",
    "#             print(2)\n",
    "#             return f'{value:1.1e}'\n",
    "#     else:\n",
    "#         print(3)\n",
    "#         return f'{value:.5g}'\n",
    "\n",
    "# print(format(12200.008392000), format(0.001), format(0.0083977727), format(0.0008392), format(0.00008392))"
   ]
  }
 ],
 "metadata": {
  "kernelspec": {
   "display_name": "Python 3.10.5 64-bit",
   "language": "python",
   "name": "python3"
  },
  "language_info": {
   "codemirror_mode": {
    "name": "ipython",
    "version": 3
   },
   "file_extension": ".py",
   "mimetype": "text/x-python",
   "name": "python",
   "nbconvert_exporter": "python",
   "pygments_lexer": "ipython3",
   "version": "3.10.5"
  },
  "orig_nbformat": 4,
  "vscode": {
   "interpreter": {
    "hash": "26de051ba29f2982a8de78e945f0abaf191376122a1563185a90213a26c5da77"
   }
  }
 },
 "nbformat": 4,
 "nbformat_minor": 2
}
