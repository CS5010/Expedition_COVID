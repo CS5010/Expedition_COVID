{
 "cells": [
  {
   "cell_type": "code",
   "execution_count": null,
   "metadata": {},
   "outputs": [],
   "source": [
    "import pandas as pd\n",
    "pd.set_option('display.max_columns', None)\n",
    "import warnings\n",
    "warnings.filterwarnings(\"ignore\")\n",
    "\n",
    "import os, sys\n",
    "sys.path.append('..')"
   ]
  },
  {
   "cell_type": "code",
   "execution_count": null,
   "metadata": {},
   "outputs": [],
   "source": [
    "targets = ['Cases']\n",
    "result_folder = '../results/TFT_split_2'\n",
    "figPath = os.path.join(result_folder, 'figures')\n",
    "results = pd.read_csv(os.path.join(figPath, 'predictions.csv'))\n",
    "results.head()"
   ]
  },
  {
   "cell_type": "code",
   "execution_count": null,
   "metadata": {},
   "outputs": [],
   "source": [
    "results['Date'] = pd.to_datetime(results['Date'])\n",
    "train = results[results['split']=='train']\n",
    "validation = results[results['split']=='validation']\n",
    "test = results[results['split']=='test']"
   ]
  },
  {
   "cell_type": "markdown",
   "metadata": {},
   "source": [
    "# Plot train validation test"
   ]
  },
  {
   "cell_type": "code",
   "execution_count": null,
   "metadata": {},
   "outputs": [],
   "source": [
    "from Class.Plotter import *\n",
    "\n",
    "plotter = PlotResults(figPath, targets, figsize=(12.5, 7))"
   ]
  },
  {
   "cell_type": "code",
   "execution_count": null,
   "metadata": {},
   "outputs": [],
   "source": [
    "# plotter.summed_plot(train, type='Train', save=True)\n",
    "plotter.summed_plot(train, type='Train_error', save=True, plot_error=True)"
   ]
  },
  {
   "cell_type": "code",
   "execution_count": null,
   "metadata": {},
   "outputs": [],
   "source": [
    "plotter.summed_plot(validation, type='Validation', save=True)"
   ]
  },
  {
   "cell_type": "code",
   "execution_count": null,
   "metadata": {},
   "outputs": [],
   "source": [
    "plotter.summed_plot(test, type='Test', save=True)"
   ]
  },
  {
   "cell_type": "markdown",
   "metadata": {},
   "source": [
    "# Combine train test"
   ]
  },
  {
   "cell_type": "code",
   "execution_count": null,
   "metadata": {},
   "outputs": [],
   "source": [
    "# fig, axes = plt.subplots(nrows=1, ncols=2, figsize=(24, 7))\n",
    "# x_column = 'Date'\n",
    "# target = \"Cases\"\n",
    "# data = [train, test]\n",
    "\n",
    "# for index in range(2):\n",
    "#     ax = axes[index]\n",
    "#     df = data[index]\n",
    "    \n",
    "#     mae, rmse, rmsle, smape, nnse = calculate_result(df[target], df[f'Predicted_{target}'])\n",
    "#     title = f'MAE {mae:0.3g}, RMSE {rmse:0.3g}, RMSLE {rmsle:0.3g}, SMAPE {smape:0.3g}, NNSE {nnse:0.3g}'\n",
    "    \n",
    "#     # if index == 0: ax.set_title(f'Train: {title}')\n",
    "#     ax.set_title(title, pad=15)\n",
    "    \n",
    "#     df = df.groupby([x_column])[[f'Predicted_{target}', target]].aggregate('sum').reset_index()\n",
    "#     ax.plot(df[x_column], df[target], color='blue', label='Ground Truth', linewidth=2)\n",
    "#     ax.plot(df[x_column], df[f'Predicted_{target}'], color='green', label='Prediction', linewidth=2)\n",
    "\n",
    "#     _, y_max = ax.get_ylim()\n",
    "#     ax.set_ylabel(f'Daily {target}')\n",
    "#     ax.set_ylim(0, y_max*1.1)\n",
    "\n",
    "#     x_first_tick = df[x_column].min()\n",
    "#     x_last_tick = df[x_column].max()\n",
    "#     x_major_ticks = DATE_TICKS\n",
    "#     ax.set_xticks(\n",
    "#         [x_first_tick + (x_last_tick - x_first_tick) * i / (x_major_ticks - 1) for i in range(x_major_ticks)]\n",
    "#     )\n",
    "\n",
    "#     # for tick in ax.get_xticklabels():\n",
    "#     #     tick.set_rotation(15)\n",
    "#     if y_max>1e3:\n",
    "#         label_text = [] \n",
    "#         for loc in ax.get_yticks():\n",
    "#             if loc == 0:\n",
    "#                 label_text.append('0')\n",
    "#             else:\n",
    "#                 label_text.append(f'{loc/1e3:0.5g}K') \n",
    "\n",
    "#         ax.set_yticklabels(label_text)\n",
    "    \n",
    "    # if index==0:\n",
    "    #     ax.legend(loc='upper left', framealpha=0.3, edgecolor=\"black\")\n",
    "\n",
    "# legend_labels = ax.get_legend_handles_labels()[-1]\n",
    "# fig.legend(\n",
    "#     labels=legend_labels, loc='upper left', bbox_to_anchor=(0.35, 0.01), \n",
    "#     ncol=len(legend_labels), bbox_transform=fig.transFigure, edgecolor=\"black\"\n",
    "# )\n",
    "# fig.supylabel('Daily Cases', x=0.01)\n",
    "\n",
    "## tight layout changes y axis values\n",
    "# # fig.tight_layout() # might change y axis values\n",
    "# plt.savefig(os.path.join(figPath, 'Train_Test_combined.jpg'), dpi=DPI, bbox_inches=\"tight\")\n",
    "# plt.show()"
   ]
  },
  {
   "cell_type": "markdown",
   "metadata": {},
   "source": [
    "# Combine Splits"
   ]
  },
  {
   "cell_type": "code",
   "execution_count": null,
   "metadata": {},
   "outputs": [],
   "source": [
    "split_names =  ['Rising 3rd Wave', 'Falling 3rd Wave', 'Post 3rd Wave']"
   ]
  },
  {
   "cell_type": "code",
   "execution_count": null,
   "metadata": {},
   "outputs": [],
   "source": [
    "splits = []\n",
    "for split in range(1, 4):\n",
    "    result_folder = f'../results/TFT_split_{split}/'\n",
    "    figPath = os.path.join(result_folder, 'figures')\n",
    "    results = pd.read_csv(os.path.join(figPath, 'predictions.csv'))\n",
    "    results['Date'] = pd.to_datetime(results['Date'])\n",
    "\n",
    "    validation = results[results['split']=='validation']\n",
    "    test = results[results['split']=='test']\n",
    "    splits.append(test)"
   ]
  },
  {
   "cell_type": "code",
   "execution_count": null,
   "metadata": {},
   "outputs": [],
   "source": [
    "fig, axes = plt.subplots(nrows=1, ncols=3, figsize=(42, 7))\n",
    "x_column = 'Date'\n",
    "target = \"Cases\"\n",
    "for index in range(3):\n",
    "    ax = axes[index]\n",
    "    df = splits[index]\n",
    "\n",
    "    mae, rmse, rmsle, smape, nnse = calculate_result(df[target], df[f'Predicted_{target}'])\n",
    "    title = f'MAE {mae:0.3g}, RMSE {rmse:0.4g}, RMSLE {rmsle:0.3g}, SMAPE {smape:0.3g}, NNSE {nnse:0.3g}'\n",
    "    \n",
    "    ax.set_title(f'{split_names[index]}\\n{title}', pad=20)\n",
    "    df = df.groupby([x_column])[[f'Predicted_{target}', target]].aggregate('sum').reset_index()\n",
    "    ax.plot(df[x_column], df[target], color='blue', label='Ground Truth', linewidth=3)\n",
    "    ax.plot(df[x_column], df[f'Predicted_{target}'], color='green', label='Prediction', linewidth=3)\n",
    "\n",
    "    _, y_max = ax.get_ylim()\n",
    "    ax.set_ylim(0, y_max*1.01)\n",
    "\n",
    "    x_first_tick = df[x_column].min()\n",
    "    x_last_tick = df[x_column].max()\n",
    "    x_major_ticks = DATE_TICKS\n",
    "    ax.set_xticks(\n",
    "        [x_first_tick + (x_last_tick - x_first_tick) * i / (x_major_ticks - 1) for i in range(x_major_ticks)]\n",
    "    )\n",
    "\n",
    "    # for tick in ax.get_xticklabels():\n",
    "    #     tick.set_rotation(15)\n",
    "    if y_max>2e3:\n",
    "        label_text = [] \n",
    "        for loc in ax.get_yticks():\n",
    "            if loc == 0:\n",
    "                label_text.append('0')\n",
    "            else:\n",
    "                label_text.append(f'{loc/1e3:0.5g}K') \n",
    "\n",
    "        ax.set_yticklabels(label_text)\n",
    "    \n",
    "    if index==0:\n",
    "        ax.legend(loc='lower left', framealpha=0.3, edgecolor=\"black\", ncol=2)\n",
    "\n",
    "# fig.legend(\n",
    "#     labels=['Ground Truth', 'Prediction'], loc='upper left', bbox_to_anchor=(0.39, 0), \n",
    "#     ncol=2, bbox_transform=fig.transFigure, edgecolor=\"black\"\n",
    "# )\n",
    "fig.supylabel('Daily Cases', x=0.085)\n",
    "\n",
    "# tight layout is changing y axis values\n",
    "# # fig.tight_layout() # might change y axis values\n",
    "plt.savefig(os.path.join(figPath, 'Test_splits.jpg'), dpi=DPI, bbox_inches=\"tight\")\n",
    "plt.show()"
   ]
  },
  {
   "cell_type": "code",
   "execution_count": null,
   "metadata": {},
   "outputs": [],
   "source": [
    "df = pd.read_csv('../2022_May_cleaned/Total.csv')[['FIPS', 'Date', 'Cases']]\n",
    "df = df.groupby(['Date'])['Cases'].aggregate('sum').reset_index()"
   ]
  },
  {
   "cell_type": "code",
   "execution_count": null,
   "metadata": {},
   "outputs": [],
   "source": [
    "baseline = df[(df['Date']>='2021-12-15') & (df['Date']<='2021-12-29')]\n",
    "first_wave = df[(df['Date']>='2022-01-16') & (df['Date']<='2022-01-30')]\n",
    "second_wave = df[(df['Date']>='2022-02-16') & (df['Date']<='2022-03-02')]\n",
    "third_wave = df[(df['Date']>='2022-03-16') & (df['Date']<='2022-03-30')]\n",
    "\n",
    "for data in [baseline, first_wave, second_wave, third_wave]:\n",
    "    print(data.describe())"
   ]
  }
 ],
 "metadata": {
  "kernelspec": {
   "display_name": "base",
   "language": "python",
   "name": "python3"
  },
  "language_info": {
   "codemirror_mode": {
    "name": "ipython",
    "version": 3
   },
   "file_extension": ".py",
   "mimetype": "text/x-python",
   "name": "python",
   "nbconvert_exporter": "python",
   "pygments_lexer": "ipython3",
   "version": "3.9.15"
  },
  "orig_nbformat": 4,
  "vscode": {
   "interpreter": {
    "hash": "43fc5fbfa959c1c54ddf7d7acab30a2019a504b895513ba1ba722e7f395657c0"
   }
  }
 },
 "nbformat": 4,
 "nbformat_minor": 2
}
