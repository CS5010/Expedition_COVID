{
 "cells": [
  {
   "attachments": {},
   "cell_type": "markdown",
   "metadata": {},
   "source": [
    "# Introduction\n",
    "This notebook normalizes the age groups. In the preprocessed AgeRange.csv files in folder [Age](../../dataset_additional/Age/), the individual age group distribution has again been min max scaled before dumping them in csv files. Which makes sum of all these age groups > 1 for a single county. This may create confusion as sum of these percentage should be 1.00 for a county. Hence this notebook takes care of that and dumps the combined file [Age Groups.csv](../../dataset_raw/CovidMay17-2022/Age%20Groups.csv)."
   ]
  },
  {
   "attachments": {},
   "cell_type": "markdown",
   "metadata": {},
   "source": [
    "# List files"
   ]
  },
  {
   "cell_type": "code",
   "execution_count": 1,
   "metadata": {},
   "outputs": [
    {
     "name": "stdout",
     "output_type": "stream",
     "text": [
      "['AGE019.csv', 'AGE2029.csv', 'AGE3039.csv', 'AGE4049.csv', 'AGE5064.csv', 'AGE6579.csv', 'AGE80PLUS.csv']\n"
     ]
    }
   ],
   "source": [
    "import pandas as pd\n",
    "import os\n",
    "root_dir = '../../dataset_additional/Age/CovidOct25-2022-Age-20200401/'\n",
    "filenames = os.listdir(root_dir)\n",
    "print(filenames)"
   ]
  },
  {
   "attachments": {},
   "cell_type": "markdown",
   "metadata": {},
   "source": [
    "# Combine"
   ]
  },
  {
   "cell_type": "code",
   "execution_count": 2,
   "metadata": {},
   "outputs": [
    {
     "data": {
      "text/html": [
       "<div>\n",
       "<style scoped>\n",
       "    .dataframe tbody tr th:only-of-type {\n",
       "        vertical-align: middle;\n",
       "    }\n",
       "\n",
       "    .dataframe tbody tr th {\n",
       "        vertical-align: top;\n",
       "    }\n",
       "\n",
       "    .dataframe thead th {\n",
       "        text-align: right;\n",
       "    }\n",
       "</style>\n",
       "<table border=\"1\" class=\"dataframe\">\n",
       "  <thead>\n",
       "    <tr style=\"text-align: right;\">\n",
       "      <th></th>\n",
       "      <th>mean</th>\n",
       "      <th>std</th>\n",
       "      <th>min</th>\n",
       "      <th>max</th>\n",
       "    </tr>\n",
       "  </thead>\n",
       "  <tbody>\n",
       "    <tr>\n",
       "      <th>AGE019</th>\n",
       "      <td>0.537431</td>\n",
       "      <td>0.080973</td>\n",
       "      <td>0.0</td>\n",
       "      <td>1.0</td>\n",
       "    </tr>\n",
       "    <tr>\n",
       "      <th>FIPS</th>\n",
       "      <td>30383.649268</td>\n",
       "      <td>15162.508374</td>\n",
       "      <td>1001.0</td>\n",
       "      <td>56045.0</td>\n",
       "    </tr>\n",
       "    <tr>\n",
       "      <th>AGE2029</th>\n",
       "      <td>0.323373</td>\n",
       "      <td>0.080992</td>\n",
       "      <td>0.0</td>\n",
       "      <td>1.0</td>\n",
       "    </tr>\n",
       "    <tr>\n",
       "      <th>AGE3039</th>\n",
       "      <td>0.376278</td>\n",
       "      <td>0.109956</td>\n",
       "      <td>0.0</td>\n",
       "      <td>1.0</td>\n",
       "    </tr>\n",
       "    <tr>\n",
       "      <th>AGE4049</th>\n",
       "      <td>0.345274</td>\n",
       "      <td>0.078599</td>\n",
       "      <td>0.0</td>\n",
       "      <td>1.0</td>\n",
       "    </tr>\n",
       "    <tr>\n",
       "      <th>AGE5064</th>\n",
       "      <td>0.578315</td>\n",
       "      <td>0.099217</td>\n",
       "      <td>0.0</td>\n",
       "      <td>1.0</td>\n",
       "    </tr>\n",
       "    <tr>\n",
       "      <th>AGE6579</th>\n",
       "      <td>0.274364</td>\n",
       "      <td>0.084424</td>\n",
       "      <td>0.0</td>\n",
       "      <td>1.0</td>\n",
       "    </tr>\n",
       "    <tr>\n",
       "      <th>AGE80PLUS</th>\n",
       "      <td>0.190533</td>\n",
       "      <td>0.060821</td>\n",
       "      <td>0.0</td>\n",
       "      <td>1.0</td>\n",
       "    </tr>\n",
       "  </tbody>\n",
       "</table>\n",
       "</div>"
      ],
      "text/plain": [
       "                   mean           std     min      max\n",
       "AGE019         0.537431      0.080973     0.0      1.0\n",
       "FIPS       30383.649268  15162.508374  1001.0  56045.0\n",
       "AGE2029        0.323373      0.080992     0.0      1.0\n",
       "AGE3039        0.376278      0.109956     0.0      1.0\n",
       "AGE4049        0.345274      0.078599     0.0      1.0\n",
       "AGE5064        0.578315      0.099217     0.0      1.0\n",
       "AGE6579        0.274364      0.084424     0.0      1.0\n",
       "AGE80PLUS      0.190533      0.060821     0.0      1.0"
      ]
     },
     "execution_count": 2,
     "metadata": {},
     "output_type": "execute_result"
    }
   ],
   "source": [
    "results = {}\n",
    "age_groups = [filename.split(\".\")[0] for filename in filenames]\n",
    "\n",
    "for index, filename in enumerate(filenames):\n",
    "    df = pd.read_csv(os.path.join(root_dir, filename), usecols=['FIPS', '2020-02-28'])\n",
    "\n",
    "    # since this is static, all date column values are same for a county\n",
    "    results[age_groups[index]] =  df['2020-02-28']\n",
    "    if index==0:\n",
    "        results['FIPS'] = df['FIPS']\n",
    "\n",
    "df = pd.DataFrame(results)\n",
    "df.describe().T[['mean', 'std', 'min', 'max']]"
   ]
  },
  {
   "cell_type": "code",
   "execution_count": 3,
   "metadata": {},
   "outputs": [],
   "source": [
    "from sklearn.preprocessing import Normalizer\n",
    "\n",
    "df[age_groups] = Normalizer(norm='l1').fit_transform(df[age_groups]) \n",
    "df = df[['FIPS']+age_groups]\n",
    "df.round(6).to_csv('../../dataset_raw/CovidMay17-2022/Age Groups old.csv', index=False)"
   ]
  }
 ],
 "metadata": {
  "kernelspec": {
   "display_name": "base",
   "language": "python",
   "name": "python3"
  },
  "language_info": {
   "codemirror_mode": {
    "name": "ipython",
    "version": 3
   },
   "file_extension": ".py",
   "mimetype": "text/x-python",
   "name": "python",
   "nbconvert_exporter": "python",
   "pygments_lexer": "ipython3",
   "version": "3.9.15"
  },
  "orig_nbformat": 4,
  "vscode": {
   "interpreter": {
    "hash": "43fc5fbfa959c1c54ddf7d7acab30a2019a504b895513ba1ba722e7f395657c0"
   }
  }
 },
 "nbformat": 4,
 "nbformat_minor": 2
}
