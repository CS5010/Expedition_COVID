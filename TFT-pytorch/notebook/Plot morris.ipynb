{
 "cells": [
  {
   "attachments": {},
   "cell_type": "markdown",
   "metadata": {},
   "source": [
    "# Imports"
   ]
  },
  {
   "cell_type": "code",
   "execution_count": 3,
   "metadata": {},
   "outputs": [],
   "source": [
    "import pandas as pd\n",
    "import matplotlib.pyplot as plt\n",
    "\n",
    "FIGSIZE = (6, 3.5)"
   ]
  },
  {
   "attachments": {},
   "cell_type": "markdown",
   "metadata": {},
   "source": [
    "# Age groups"
   ]
  },
  {
   "attachments": {},
   "cell_type": "markdown",
   "metadata": {},
   "source": [
    "## Merge morris results"
   ]
  },
  {
   "cell_type": "code",
   "execution_count": 4,
   "metadata": {},
   "outputs": [
    {
     "data": {
      "text/html": [
       "<div>\n",
       "<style scoped>\n",
       "    .dataframe tbody tr th:only-of-type {\n",
       "        vertical-align: middle;\n",
       "    }\n",
       "\n",
       "    .dataframe tbody tr th {\n",
       "        vertical-align: top;\n",
       "    }\n",
       "\n",
       "    .dataframe thead th {\n",
       "        text-align: right;\n",
       "    }\n",
       "</style>\n",
       "<table border=\"1\" class=\"dataframe\">\n",
       "  <thead>\n",
       "    <tr style=\"text-align: right;\">\n",
       "      <th></th>\n",
       "      <th>Delta</th>\n",
       "      <th>Feature</th>\n",
       "      <th>Mu_star</th>\n",
       "      <th>Morris_sensitivity</th>\n",
       "      <th>Age_group</th>\n",
       "    </tr>\n",
       "  </thead>\n",
       "  <tbody>\n",
       "    <tr>\n",
       "      <th>0</th>\n",
       "      <td>0.001</td>\n",
       "      <td>AGE019</td>\n",
       "      <td>0.006710</td>\n",
       "      <td>0.000644</td>\n",
       "      <td>AGE019</td>\n",
       "    </tr>\n",
       "    <tr>\n",
       "      <th>1</th>\n",
       "      <td>0.001</td>\n",
       "      <td>VaccinationFull</td>\n",
       "      <td>0.003170</td>\n",
       "      <td>0.000600</td>\n",
       "      <td>AGE019</td>\n",
       "    </tr>\n",
       "    <tr>\n",
       "      <th>2</th>\n",
       "      <td>0.002</td>\n",
       "      <td>AGE019</td>\n",
       "      <td>0.006508</td>\n",
       "      <td>0.000624</td>\n",
       "      <td>AGE019</td>\n",
       "    </tr>\n",
       "    <tr>\n",
       "      <th>3</th>\n",
       "      <td>0.002</td>\n",
       "      <td>VaccinationFull</td>\n",
       "      <td>0.002362</td>\n",
       "      <td>0.000447</td>\n",
       "      <td>AGE019</td>\n",
       "    </tr>\n",
       "    <tr>\n",
       "      <th>4</th>\n",
       "      <td>0.003</td>\n",
       "      <td>AGE019</td>\n",
       "      <td>0.005976</td>\n",
       "      <td>0.000573</td>\n",
       "      <td>AGE019</td>\n",
       "    </tr>\n",
       "    <tr>\n",
       "      <th>...</th>\n",
       "      <td>...</td>\n",
       "      <td>...</td>\n",
       "      <td>...</td>\n",
       "      <td>...</td>\n",
       "      <td>...</td>\n",
       "    </tr>\n",
       "    <tr>\n",
       "      <th>13</th>\n",
       "      <td>0.007</td>\n",
       "      <td>VaccinationFull</td>\n",
       "      <td>0.001715</td>\n",
       "      <td>0.000325</td>\n",
       "      <td>AGE80PLUS</td>\n",
       "    </tr>\n",
       "    <tr>\n",
       "      <th>14</th>\n",
       "      <td>0.008</td>\n",
       "      <td>AGE80PLUS</td>\n",
       "      <td>0.004468</td>\n",
       "      <td>0.000343</td>\n",
       "      <td>AGE80PLUS</td>\n",
       "    </tr>\n",
       "    <tr>\n",
       "      <th>15</th>\n",
       "      <td>0.008</td>\n",
       "      <td>VaccinationFull</td>\n",
       "      <td>0.001629</td>\n",
       "      <td>0.000308</td>\n",
       "      <td>AGE80PLUS</td>\n",
       "    </tr>\n",
       "    <tr>\n",
       "      <th>16</th>\n",
       "      <td>0.009</td>\n",
       "      <td>AGE80PLUS</td>\n",
       "      <td>0.004098</td>\n",
       "      <td>0.000314</td>\n",
       "      <td>AGE80PLUS</td>\n",
       "    </tr>\n",
       "    <tr>\n",
       "      <th>17</th>\n",
       "      <td>0.009</td>\n",
       "      <td>VaccinationFull</td>\n",
       "      <td>0.001533</td>\n",
       "      <td>0.000290</td>\n",
       "      <td>AGE80PLUS</td>\n",
       "    </tr>\n",
       "  </tbody>\n",
       "</table>\n",
       "<p>126 rows × 5 columns</p>\n",
       "</div>"
      ],
      "text/plain": [
       "    Delta          Feature   Mu_star  Morris_sensitivity  Age_group\n",
       "0   0.001           AGE019  0.006710            0.000644     AGE019\n",
       "1   0.001  VaccinationFull  0.003170            0.000600     AGE019\n",
       "2   0.002           AGE019  0.006508            0.000624     AGE019\n",
       "3   0.002  VaccinationFull  0.002362            0.000447     AGE019\n",
       "4   0.003           AGE019  0.005976            0.000573     AGE019\n",
       "..    ...              ...       ...                 ...        ...\n",
       "13  0.007  VaccinationFull  0.001715            0.000325  AGE80PLUS\n",
       "14  0.008        AGE80PLUS  0.004468            0.000343  AGE80PLUS\n",
       "15  0.008  VaccinationFull  0.001629            0.000308  AGE80PLUS\n",
       "16  0.009        AGE80PLUS  0.004098            0.000314  AGE80PLUS\n",
       "17  0.009  VaccinationFull  0.001533            0.000290  AGE80PLUS\n",
       "\n",
       "[126 rows x 5 columns]"
      ]
     },
     "execution_count": 4,
     "metadata": {},
     "output_type": "execute_result"
    }
   ],
   "source": [
    "root_folder = '../results/age_subgroup/'\n",
    "age_groups = [\"AGE019\",\"AGE2029\",\"AGE3039\",\"AGE4049\",\"AGE5064\",\"AGE6579\",\"AGE80PLUS\"]\n",
    "age_groups_labels = ['0-19', '20-29', '30-39', '40-49', '50-64', '65-79', '80+']\n",
    "age_group_column = 'Age_group'\n",
    "morris_results = []\n",
    "\n",
    "for age_group in age_groups:\n",
    "    df = pd.read_csv(f'{root_folder}/{age_group}/figures_morris/Morris.csv')\n",
    "    df[age_group_column] = age_group\n",
    "    morris_results.append(df)\n",
    "\n",
    "df = pd.concat(morris_results)\n",
    "df"
   ]
  },
  {
   "attachments": {},
   "cell_type": "markdown",
   "metadata": {},
   "source": [
    "## Age"
   ]
  },
  {
   "cell_type": "code",
   "execution_count": null,
   "metadata": {},
   "outputs": [],
   "source": [
    "plt.figure(figsize=FIGSIZE)\n",
    "prop_cycle = iter(plt.rcParams[\"axes.prop_cycle\"])\n",
    "deltas = df['Delta'].unique()\n",
    "\n",
    "for index, age_group in enumerate(age_groups):\n",
    "    color = next(prop_cycle)[\"color\"]\n",
    "    morris_values = df[\n",
    "        (df[age_group_column]==age_group) & (df['Feature']==age_group)\n",
    "    ]['Morris_sensitivity']\n",
    "    plt.plot(deltas, morris_values, color=color, label=age_groups_labels[index])\n",
    "\n",
    "plt.ylabel('Scaled Morris Index')\n",
    "plt.xlabel('Delta')\n",
    "\n",
    "# plt.ylim(0)\n",
    "plt.savefig(f'{root_folder}/Age_groups_without_legend.jpg', dpi=200, bbox_inches=\"tight\")\n",
    "plt.legend(ncols=3)\n",
    "plt.savefig(f'{root_folder}/Age_groups.jpg', dpi=200, bbox_inches=\"tight\")\n",
    "plt.show()"
   ]
  },
  {
   "attachments": {},
   "cell_type": "markdown",
   "metadata": {},
   "source": [
    "## Vaccination"
   ]
  },
  {
   "cell_type": "code",
   "execution_count": null,
   "metadata": {},
   "outputs": [],
   "source": [
    "plt.figure(figsize=FIGSIZE)\n",
    "prop_cycle = iter(plt.rcParams[\"axes.prop_cycle\"])\n",
    "deltas = df['Delta'].unique()\n",
    "\n",
    "for index, age_group in enumerate(age_groups):\n",
    "    color = next(prop_cycle)[\"color\"]\n",
    "    morris_values = df[\n",
    "        (df[age_group_column]==age_group) & (df['Feature']=='VaccinationFull')\n",
    "    ]['Morris_sensitivity']\n",
    "    plt.plot(deltas, morris_values, color=color, label=age_groups_labels[index])\n",
    "\n",
    "# plt.ylabel('Scaled Morris Index')\n",
    "plt.xlabel('Delta')\n",
    "plt.legend(ncols=3)\n",
    "plt.savefig(f'{root_folder}/Vaccination.jpg', dpi=200, bbox_inches=\"tight\")\n",
    "plt.show()"
   ]
  },
  {
   "attachments": {},
   "cell_type": "markdown",
   "metadata": {},
   "source": [
    "# Industry groups"
   ]
  },
  {
   "attachments": {},
   "cell_type": "markdown",
   "metadata": {},
   "source": [
    "## Merge morris results"
   ]
  },
  {
   "cell_type": "code",
   "execution_count": null,
   "metadata": {},
   "outputs": [],
   "source": [
    "root_folder = '../results/industry_subgroup'\n",
    "# age_groups = [\"AGE019\",\"AGE2029\",\"AGE3039\",\"AGE4049\",\"AGE5064\",\"AGE6579\",\"AGE80PLUS\"]\n",
    "# age_groups_labels = ['0-19', '20-29', '30-39', '40-49', '50-64', '65-79', '80+']\n",
    "groups = [\"Health Care and Social Assistance\",\"Manufacturing\",\"Retail Trade\",\"Accommodation and Food Services\"]\n",
    "groups_labels = [\"Health Care\",\"Manufacturing\",\"Retail Trade\",\"Accommodation\"]\n",
    "group_column = 'Industry_group'\n",
    "morris_results = []\n",
    "\n",
    "for group in groups:\n",
    "    df = pd.read_csv(f'{root_folder}/{group}/figures_morris/Morris.csv')\n",
    "    df[group_column] = group\n",
    "    morris_results.append(df)\n",
    "\n",
    "df = pd.concat(morris_results)\n",
    "df"
   ]
  },
  {
   "attachments": {},
   "cell_type": "markdown",
   "metadata": {},
   "source": [
    "## Industry"
   ]
  },
  {
   "cell_type": "code",
   "execution_count": null,
   "metadata": {},
   "outputs": [],
   "source": [
    "plt.figure(figsize=FIGSIZE)\n",
    "prop_cycle = iter(plt.rcParams[\"axes.prop_cycle\"])\n",
    "deltas = df['Delta'].unique()\n",
    "\n",
    "for index, group in enumerate(groups):\n",
    "    color = next(prop_cycle)[\"color\"]\n",
    "    morris_values = df[\n",
    "        (df[group_column]==group) & (df['Feature']==group)\n",
    "    ]['Morris_sensitivity']\n",
    "    plt.plot(deltas, morris_values, color=color, label=groups_labels[index])\n",
    "\n",
    "plt.ylabel('Scaled Morris Index')\n",
    "plt.xlabel('Delta')\n",
    "\n",
    "# plt.ylim(0)\n",
    "plt.savefig(f'{root_folder}/Industry_groups_without_legend.jpg', dpi=200, bbox_inches=\"tight\")\n",
    "plt.legend(ncols=1)\n",
    "plt.savefig(f'{root_folder}/Industry_groups.jpg', dpi=200, bbox_inches=\"tight\")\n",
    "plt.show()"
   ]
  },
  {
   "attachments": {},
   "cell_type": "markdown",
   "metadata": {},
   "source": [
    "## Vaccination"
   ]
  },
  {
   "cell_type": "code",
   "execution_count": null,
   "metadata": {},
   "outputs": [],
   "source": [
    "plt.figure(figsize=FIGSIZE)\n",
    "prop_cycle = iter(plt.rcParams[\"axes.prop_cycle\"])\n",
    "deltas = df['Delta'].unique()\n",
    "\n",
    "for index, group in enumerate(groups):\n",
    "    color = next(prop_cycle)[\"color\"]\n",
    "    morris_values = df[\n",
    "        (df[group_column]==group) & (df['Feature']=='VaccinationFull')\n",
    "    ]['Morris_sensitivity']\n",
    "    plt.plot(deltas, morris_values, color=color, label=groups_labels[index])\n",
    "\n",
    "# plt.ylabel('Scaled Morris Index')\n",
    "plt.xlabel('Delta')\n",
    "plt.legend()\n",
    "plt.savefig(f'{root_folder}/Vaccination.jpg', dpi=200, bbox_inches=\"tight\")\n",
    "plt.show()"
   ]
  }
 ],
 "metadata": {
  "kernelspec": {
   "display_name": "base",
   "language": "python",
   "name": "python3"
  },
  "language_info": {
   "codemirror_mode": {
    "name": "ipython",
    "version": 3
   },
   "file_extension": ".py",
   "mimetype": "text/x-python",
   "name": "python",
   "nbconvert_exporter": "python",
   "pygments_lexer": "ipython3",
   "version": "3.9.15"
  },
  "orig_nbformat": 4,
  "vscode": {
   "interpreter": {
    "hash": "43fc5fbfa959c1c54ddf7d7acab30a2019a504b895513ba1ba722e7f395657c0"
   }
  }
 },
 "nbformat": 4,
 "nbformat_minor": 2
}
