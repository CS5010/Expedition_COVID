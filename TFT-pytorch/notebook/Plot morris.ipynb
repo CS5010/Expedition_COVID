{
 "cells": [
  {
   "attachments": {},
   "cell_type": "markdown",
   "metadata": {},
   "source": [
    "# Imports"
   ]
  },
  {
   "cell_type": "code",
   "execution_count": null,
   "metadata": {},
   "outputs": [],
   "source": [
    "import pandas as pd\n",
    "import matplotlib.pyplot as plt\n",
    "\n",
    "FIGSIZE = (6, 3.5)"
   ]
  },
  {
   "attachments": {},
   "cell_type": "markdown",
   "metadata": {},
   "source": [
    "# Age groups"
   ]
  },
  {
   "attachments": {},
   "cell_type": "markdown",
   "metadata": {},
   "source": [
    "## Merge morris results"
   ]
  },
  {
   "cell_type": "code",
   "execution_count": null,
   "metadata": {},
   "outputs": [],
   "source": [
    "root_folder = '../results/age_subgroup/'\n",
    "age_groups = [\"AGE019\",\"AGE2029\",\"AGE3039\",\"AGE4049\",\"AGE5064\",\"AGE6579\",\"AGE80PLUS\"]\n",
    "age_groups_labels = ['0-19', '20-29', '30-39', '40-49', '50-64', '65-79', '80+']\n",
    "age_group_column = 'Age_group'\n",
    "morris_results = []\n",
    "\n",
    "for age_group in age_groups:\n",
    "    df = pd.read_csv(f'{root_folder}/{age_group}/figures_morris/Morris.csv')\n",
    "    df[age_group_column] = age_group\n",
    "    morris_results.append(df)\n",
    "\n",
    "df = pd.concat(morris_results)\n",
    "df"
   ]
  },
  {
   "attachments": {},
   "cell_type": "markdown",
   "metadata": {},
   "source": [
    "## Age"
   ]
  },
  {
   "cell_type": "code",
   "execution_count": null,
   "metadata": {},
   "outputs": [],
   "source": [
    "plt.figure(figsize=FIGSIZE)\n",
    "prop_cycle = iter(plt.rcParams[\"axes.prop_cycle\"])\n",
    "deltas = df['Delta'].unique()\n",
    "\n",
    "for index, age_group in enumerate(age_groups):\n",
    "    color = next(prop_cycle)[\"color\"]\n",
    "    morris_values = df[\n",
    "        (df[age_group_column]==age_group) & (df['Feature']==age_group)\n",
    "    ]['Morris_sensitivity']\n",
    "    plt.plot(deltas, morris_values, color=color, label=age_groups_labels[index])\n",
    "\n",
    "plt.ylabel('Scaled Morris Index')\n",
    "plt.xlabel('Delta')\n",
    "\n",
    "# plt.ylim(0)\n",
    "plt.savefig(f'{root_folder}/Age_groups_without_legend.jpg', dpi=200, bbox_inches=\"tight\")\n",
    "plt.legend(ncols=3)\n",
    "plt.savefig(f'{root_folder}/Age_groups.jpg', dpi=200, bbox_inches=\"tight\")\n",
    "plt.show()"
   ]
  },
  {
   "attachments": {},
   "cell_type": "markdown",
   "metadata": {},
   "source": [
    "## Vaccination"
   ]
  },
  {
   "cell_type": "code",
   "execution_count": null,
   "metadata": {},
   "outputs": [],
   "source": [
    "plt.figure(figsize=FIGSIZE)\n",
    "prop_cycle = iter(plt.rcParams[\"axes.prop_cycle\"])\n",
    "deltas = df['Delta'].unique()\n",
    "\n",
    "for index, age_group in enumerate(age_groups):\n",
    "    color = next(prop_cycle)[\"color\"]\n",
    "    morris_values = df[\n",
    "        (df[age_group_column]==age_group) & (df['Feature']=='VaccinationFull')\n",
    "    ]['Morris_sensitivity']\n",
    "    plt.plot(deltas, morris_values, color=color, label=age_groups_labels[index])\n",
    "\n",
    "# plt.ylabel('Scaled Morris Index')\n",
    "plt.xlabel('Delta')\n",
    "plt.legend(ncols=3)\n",
    "plt.savefig(f'{root_folder}/Vaccination.jpg', dpi=200, bbox_inches=\"tight\")\n",
    "plt.show()"
   ]
  },
  {
   "attachments": {},
   "cell_type": "markdown",
   "metadata": {},
   "source": [
    "# Industry groups"
   ]
  },
  {
   "attachments": {},
   "cell_type": "markdown",
   "metadata": {},
   "source": [
    "## Merge morris results"
   ]
  },
  {
   "cell_type": "code",
   "execution_count": null,
   "metadata": {},
   "outputs": [],
   "source": [
    "root_folder = '../results/industry_subgroup'\n",
    "# age_groups = [\"AGE019\",\"AGE2029\",\"AGE3039\",\"AGE4049\",\"AGE5064\",\"AGE6579\",\"AGE80PLUS\"]\n",
    "# age_groups_labels = ['0-19', '20-29', '30-39', '40-49', '50-64', '65-79', '80+']\n",
    "groups = [\"Health Care and Social Assistance\",\"Manufacturing\",\"Retail Trade\",\"Accommodation and Food Services\"]\n",
    "groups_labels = [\"Health Care\",\"Manufacturing\",\"Retail Trade\",\"Accommodation\"]\n",
    "group_column = 'Industry_group'\n",
    "morris_results = []\n",
    "\n",
    "for group in groups:\n",
    "    df = pd.read_csv(f'{root_folder}/{group}/figures_morris/Morris.csv')\n",
    "    df[group_column] = group\n",
    "    morris_results.append(df)\n",
    "\n",
    "df = pd.concat(morris_results)\n",
    "df"
   ]
  },
  {
   "attachments": {},
   "cell_type": "markdown",
   "metadata": {},
   "source": [
    "## Industry"
   ]
  },
  {
   "cell_type": "code",
   "execution_count": null,
   "metadata": {},
   "outputs": [],
   "source": [
    "plt.figure(figsize=FIGSIZE)\n",
    "prop_cycle = iter(plt.rcParams[\"axes.prop_cycle\"])\n",
    "deltas = df['Delta'].unique()\n",
    "\n",
    "for index, group in enumerate(groups):\n",
    "    color = next(prop_cycle)[\"color\"]\n",
    "    morris_values = df[\n",
    "        (df[group_column]==group) & (df['Feature']==group)\n",
    "    ]['Morris_sensitivity']\n",
    "    plt.plot(deltas, morris_values, color=color, label=groups_labels[index])\n",
    "\n",
    "plt.ylabel('Scaled Morris Index')\n",
    "plt.xlabel('Delta')\n",
    "\n",
    "# plt.ylim(0)\n",
    "plt.savefig(f'{root_folder}/Industry_groups_without_legend.jpg', dpi=200, bbox_inches=\"tight\")\n",
    "plt.legend(ncols=1)\n",
    "plt.savefig(f'{root_folder}/Industry_groups.jpg', dpi=200, bbox_inches=\"tight\")\n",
    "plt.show()"
   ]
  },
  {
   "attachments": {},
   "cell_type": "markdown",
   "metadata": {},
   "source": [
    "## Vaccination"
   ]
  },
  {
   "cell_type": "code",
   "execution_count": null,
   "metadata": {},
   "outputs": [],
   "source": [
    "plt.figure(figsize=FIGSIZE)\n",
    "prop_cycle = iter(plt.rcParams[\"axes.prop_cycle\"])\n",
    "deltas = df['Delta'].unique()\n",
    "\n",
    "for index, group in enumerate(groups):\n",
    "    color = next(prop_cycle)[\"color\"]\n",
    "    morris_values = df[\n",
    "        (df[group_column]==group) & (df['Feature']=='VaccinationFull')\n",
    "    ]['Morris_sensitivity']\n",
    "    plt.plot(deltas, morris_values, color=color, label=groups_labels[index])\n",
    "\n",
    "# plt.ylabel('Scaled Morris Index')\n",
    "plt.xlabel('Delta')\n",
    "plt.legend()\n",
    "plt.savefig(f'{root_folder}/Vaccination.jpg', dpi=200, bbox_inches=\"tight\")\n",
    "plt.show()"
   ]
  }
 ],
 "metadata": {
  "kernelspec": {
   "display_name": "base",
   "language": "python",
   "name": "python3"
  },
  "language_info": {
   "codemirror_mode": {
    "name": "ipython",
    "version": 3
   },
   "file_extension": ".py",
   "mimetype": "text/x-python",
   "name": "python",
   "nbconvert_exporter": "python",
   "pygments_lexer": "ipython3",
   "version": "3.9.15"
  },
  "orig_nbformat": 4,
  "vscode": {
   "interpreter": {
    "hash": "43fc5fbfa959c1c54ddf7d7acab30a2019a504b895513ba1ba722e7f395657c0"
   }
  }
 },
 "nbformat": 4,
 "nbformat_minor": 2
}
