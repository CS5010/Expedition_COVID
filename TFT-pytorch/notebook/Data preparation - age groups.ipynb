{
  "cells": [
    {
      "attachments": {},
      "cell_type": "markdown",
      "metadata": {
        "id": "0jp_MQeY9Hob"
      },
      "source": [
        "# Introduction\n"
      ]
    },
    {
      "cell_type": "markdown",
      "metadata": {
        "id": "cI10VjY39Hof"
      },
      "source": [
        "# Import libraries"
      ]
    },
    {
      "cell_type": "code",
      "execution_count": 1,
      "metadata": {
        "id": "1M2WLI7D9Hog"
      },
      "outputs": [],
      "source": [
        "import sys\n",
        "sys.path.append( '..' )"
      ]
    },
    {
      "attachments": {},
      "cell_type": "markdown",
      "metadata": {
        "id": "wlaIcaHc9Hoi"
      },
      "source": [
        "## Input\n",
        "If running on colab, modify the below paths accordingly. "
      ]
    },
    {
      "cell_type": "code",
      "execution_count": 2,
      "metadata": {
        "id": "kKXlhpDi9Hoj"
      },
      "outputs": [],
      "source": [
        "from dataclasses import dataclass\n",
        "from Class.DataMerger import *\n",
        "\n",
        "@dataclass\n",
        "class args:\n",
        "    # folder where the cleaned feature file are at\n",
        "    dataPath = '../../dataset_raw/CovidMay17-2022'\n",
        "    supportPath = '../../dataset_raw/Support files'\n",
        "    configPath = '../configurations/industry_groups.json'\n",
        "    cachePath = None # '../2022_May_industry_groups/Total.csv'\n",
        "\n",
        "    # choose this carefully\n",
        "    outputPath = '../2022_May_industry_groups/'"
      ]
    },
    {
      "cell_type": "code",
      "execution_count": 3,
      "metadata": {
        "colab": {
          "base_uri": "https://localhost:8080/"
        },
        "id": "rE7F4cXP9Hok",
        "outputId": "c5927406-1491-4ae3-d252-32e1f2f3f231"
      },
      "outputs": [
        {
          "name": "stdout",
          "output_type": "stream",
          "text": [
            "Creating output directory ../2022_May_industry_groups/\n",
            "Config file loaded from ../configurations/industry_groups.json\n"
          ]
        }
      ],
      "source": [
        "# create output path if it doesn't exist\n",
        "if not os.path.exists(args.outputPath):\n",
        "    print(f'Creating output directory {args.outputPath}')\n",
        "    os.makedirs(args.outputPath, exist_ok=True)\n",
        "\n",
        "import json\n",
        "\n",
        "# load config file\n",
        "with open(args.configPath) as inputFile:\n",
        "    config = json.load(inputFile)\n",
        "    print(f'Config file loaded from {args.configPath}')\n",
        "    inputFile.close()"
      ]
    },
    {
      "cell_type": "markdown",
      "metadata": {
        "id": "2BgfTz2F9Hol"
      },
      "source": [
        "# Data merger"
      ]
    },
    {
      "cell_type": "markdown",
      "metadata": {
        "id": "4VtM_7Mh9Hol"
      },
      "source": [
        "## Total features"
      ]
    },
    {
      "cell_type": "code",
      "execution_count": 4,
      "metadata": {},
      "outputs": [],
      "source": [
        "# get merger class\n",
        "dataMerger = DataMerger(config, args.dataPath, args.supportPath)"
      ]
    },
    {
      "cell_type": "code",
      "execution_count": 5,
      "metadata": {
        "colab": {
          "base_uri": "https://localhost:8080/"
        },
        "id": "GLrT8EfF9Hom",
        "outputId": "3a83f81f-7cc2-404e-a076-43372808dc0e"
      },
      "outputs": [
        {
          "name": "stdout",
          "output_type": "stream",
          "text": [
            "Merging feature Industry Groups.csv with length 3142\n",
            "\n",
            "Merged static features have 3142 counties\n",
            "Removing outliers from dynamic inputs.\n",
            "Reading Vaccination.csv\n",
            "Outliers found 266, percent 0.016\n",
            "Min date 2020-12-13 00:00:00, max date 2022-05-17 00:00:00\n",
            "Filtering out dynamic features outside range 2020-02-29 00:00:00 and 2022-05-17 00:00:00.\n",
            "Length 1679704.\n",
            "\n",
            "Total dynamic feature shape (1679704, 3)\n",
            "Removing outliers from target.\n",
            "Reading Cases.csv\n",
            "Outliers found 88970, percent 3.312\n",
            "Setting negative daily Cases counts to zero.\n",
            "Min date 2020-01-22 00:00:00, max date 2022-05-25 00:00:00\n",
            "Will filter out target data outside range 2020-02-29 00:00:00 and 2022-05-17 00:00:00.\n",
            "Length 2541878.\n",
            "\n",
            "Total target feature shape (2541878, 3)\n",
            "Merging all features\n",
            "Total merged data shape (2584600, 8)\n",
            "Missing percentage in total data\n",
            "VaccinationFull                      35.01\n",
            "Health Care and Social Assistance     1.65\n",
            "Manufacturing                         1.65\n",
            "Retail Trade                          1.65\n",
            "Accommodation and Food Services       1.65\n",
            "Cases                                 1.65\n",
            "FIPS                                  0.00\n",
            "Date                                  0.00\n",
            "dtype: float64\n",
            "Filling null values with 0\n",
            "Adding time based embeddings.\n",
            "Writing total data to ../2022_May_industry_groups/Total.csv\n",
            "\n"
          ]
        }
      ],
      "source": [
        "# if you have already created the total df one, and now just want to \n",
        "# reuse it to create different population or rurality cut\n",
        "if args.cachePath:\n",
        "    total_df = pd.read_csv(args.cachePath)\n",
        "else:\n",
        "    total_df = dataMerger.get_all_features()\n",
        "    \n",
        "    output_path_total = os.path.join(args.outputPath, 'Total.csv') \n",
        "    print(f'Writing total data to {output_path_total}\\n')\n",
        "\n",
        "    # rounding up to reduce the file size\n",
        "    total_df.round(4).to_csv(output_path_total, index=False)"
      ]
    },
    {
      "cell_type": "markdown",
      "metadata": {
        "id": "GGPpSPbM9Hoo"
      },
      "source": [
        "## Population cut"
      ]
    },
    {
      "cell_type": "code",
      "execution_count": 6,
      "metadata": {
        "colab": {
          "base_uri": "https://localhost:8080/"
        },
        "id": "0xiq0UbD9Hoo",
        "outputId": "22d626ea-bde1-4cf9-aa54-47ae3f217a9e"
      },
      "outputs": [
        {
          "name": "stdout",
          "output_type": "stream",
          "text": [
            "Slicing based on top 100 counties by population\n",
            "Slicing based on top 500 counties by population\n",
            "Writing top 100 populated counties data to ../2022_May_industry_groups/Top_100.csv.\n",
            "Writing top 500 populated counties data to ../2022_May_industry_groups/Top_500.csv.\n"
          ]
        }
      ],
      "source": [
        "# you can define 'Population cut' in 'data'->'support'\n",
        "# this means how many of top counties you want to keep\n",
        "\n",
        "if dataMerger.need_population_cut():\n",
        "    population_cuts = dataMerger.population_cut(total_df)\n",
        "    for index, population_cut in enumerate(population_cuts):\n",
        "        top_counties = dataMerger.data_config.population_cut[index]\n",
        "        filename = f\"Top_{top_counties}.csv\"\n",
        "\n",
        "        output_path_population_cut = os.path.join(args.outputPath, filename)\n",
        "\n",
        "        print(f'Writing top {top_counties} populated counties data to {output_path_population_cut}.')\n",
        "        population_cuts[index].round(4).to_csv(output_path_population_cut, index=False)"
      ]
    }
  ],
  "metadata": {
    "colab": {
      "name": "Data preparation.ipynb",
      "provenance": []
    },
    "gpuClass": "standard",
    "kernelspec": {
      "display_name": "base",
      "language": "python",
      "name": "python3"
    },
    "language_info": {
      "codemirror_mode": {
        "name": "ipython",
        "version": 3
      },
      "file_extension": ".py",
      "mimetype": "text/x-python",
      "name": "python",
      "nbconvert_exporter": "python",
      "pygments_lexer": "ipython3",
      "version": "3.9.15"
    },
    "vscode": {
      "interpreter": {
        "hash": "43fc5fbfa959c1c54ddf7d7acab30a2019a504b895513ba1ba722e7f395657c0"
      }
    }
  },
  "nbformat": 4,
  "nbformat_minor": 0
}
