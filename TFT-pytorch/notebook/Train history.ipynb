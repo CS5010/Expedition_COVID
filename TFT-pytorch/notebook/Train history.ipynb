{
 "cells": [
  {
   "cell_type": "markdown",
   "metadata": {},
   "source": [
    "# Imports"
   ]
  },
  {
   "cell_type": "code",
   "execution_count": null,
   "metadata": {},
   "outputs": [],
   "source": [
    "import os\n",
    "import pandas as pd\n",
    "\n",
    "import matplotlib.pyplot as plt\n",
    "import matplotlib.ticker as ticker\n",
    "from matplotlib.ticker import StrMethodFormatter\n",
    "import seaborn as sns\n",
    "# Apply the default theme\n",
    "sns.set_theme()\n",
    "sns.set(font_scale = 2)\n",
    "\n",
    "plt.rcParams['lines.linewidth'] = 2\n",
    "DPI = 200"
   ]
  },
  {
   "cell_type": "markdown",
   "metadata": {},
   "source": [
    "# Arguments"
   ]
  },
  {
   "cell_type": "code",
   "execution_count": null,
   "metadata": {},
   "outputs": [],
   "source": [
    "from dataclasses import dataclass\n",
    "\n",
    "@dataclass\n",
    "class args:\n",
    "    outputPath = '../total_target_cleaned_scaled_old'\n",
    "    figPath = os.path.join(outputPath, 'figures')\n",
    "    train_loss_filePath = os.path.join(outputPath, 'run-version_0-tag-train_loss_epoch.csv')\n",
    "    val_loss_filePath = os.path.join(outputPath, 'run-version_0-tag-val_loss.csv')"
   ]
  },
  {
   "cell_type": "markdown",
   "metadata": {},
   "source": [
    "# Utils"
   ]
  },
  {
   "cell_type": "code",
   "execution_count": null,
   "metadata": {},
   "outputs": [],
   "source": [
    "def plot_loss(df, figsize=(18,8), title:str=None, figure_name:str=None, base=5, annotate=True):\n",
    "    df['Epoch'] = df['Step'] / df['Step'].min()\n",
    "    df['Epoch'] = df['Epoch'].astype(int)\n",
    "\n",
    "    formatter = StrMethodFormatter('{x:,.5g}')\n",
    "    fig, ax = plt.subplots(figsize=figsize)\n",
    "    plt.gca().yaxis.set_major_formatter(formatter)\n",
    "    ax.xaxis.set_major_locator(ticker.MultipleLocator(base=base))\n",
    "\n",
    "    plt.plot(df['Epoch'], df['Value'])\n",
    "    plt.xlabel('Number of epochs')\n",
    "    plt.ylabel('Mean squared loss')\n",
    "    # plt.ylim(bottom=df['Value'].min())\n",
    "    plt.xlim(df['Epoch'].min()-1, df['Epoch'].max()+1)\n",
    "    if title is not None:\n",
    "        plt.title(title)\n",
    "\n",
    "    minimum_loss = df['Value'].min()\n",
    "    epoch = df[df['Value']==minimum_loss]['Epoch'].values[0]\n",
    "\n",
    "    if annotate:\n",
    "        arrowprops = dict(arrowstyle=\"fancy, head_length=0.8, head_width=0.5, tail_width=0.2\", color='red')\n",
    "\n",
    "        plt.annotate(f'Minimum point ({epoch}, {minimum_loss:0.5g})', \n",
    "            xy=(epoch, minimum_loss),\n",
    "            xytext=(max((6-epoch)*20, 0), 150), \n",
    "            textcoords='offset points',\n",
    "            size=20, \n",
    "            ha='center', va=\"center\",\n",
    "            arrowprops=arrowprops\n",
    "        )\n",
    "\n",
    "    plt.tight_layout()\n",
    "    if figure_name is not None:\n",
    "        plt.savefig(figure_name, dpi=DPI)\n",
    "    plt.show()"
   ]
  },
  {
   "cell_type": "markdown",
   "metadata": {},
   "source": [
    "#  Plotting"
   ]
  },
  {
   "cell_type": "markdown",
   "metadata": {},
   "source": [
    "## Train"
   ]
  },
  {
   "cell_type": "code",
   "execution_count": null,
   "metadata": {},
   "outputs": [],
   "source": [
    "df = pd.read_csv(args.train_loss_filePath)\n",
    "plot_loss(df, title='Train loss with time', figure_name=os.path.join(args.outputPath, 'train_loss.jpg'), annotate=False)"
   ]
  },
  {
   "cell_type": "markdown",
   "metadata": {},
   "source": [
    "## Validation"
   ]
  },
  {
   "cell_type": "code",
   "execution_count": null,
   "metadata": {},
   "outputs": [],
   "source": [
    "df = pd.read_csv(args.val_loss_filePath)\n",
    "plot_loss(df, title='Validation loss with time', figure_name=os.path.join(args.outputPath, 'validation_loss.jpg'))"
   ]
  }
 ],
 "metadata": {
  "kernelspec": {
   "display_name": "Python 3.10.2 64-bit",
   "language": "python",
   "name": "python3"
  },
  "language_info": {
   "codemirror_mode": {
    "name": "ipython",
    "version": 3
   },
   "file_extension": ".py",
   "mimetype": "text/x-python",
   "name": "python",
   "nbconvert_exporter": "python",
   "pygments_lexer": "ipython3",
   "version": "3.10.2"
  },
  "orig_nbformat": 4,
  "vscode": {
   "interpreter": {
    "hash": "f82c0d4b75d1a522b549257adf6e3ea321f1ee050a595ab76efcf522f2572b2a"
   }
  }
 },
 "nbformat": 4,
 "nbformat_minor": 2
}
