{
 "cells": [
  {
   "cell_type": "markdown",
   "id": "4e7abb76-e183-489b-b9eb-bafbd0006c87",
   "metadata": {},
   "source": [
    "# NAICS to FIPS Data Mapping"
   ]
  },
  {
   "cell_type": "markdown",
   "id": "1d74c879-8c29-40f5-b973-063093320a2a",
   "metadata": {},
   "source": [
    "### Table Index for Census NAIC data"
   ]
  },
  {
   "cell_type": "markdown",
   "id": "0a51e66f-687f-46fe-beb0-c7de01859d84",
   "metadata": {},
   "source": [
    "Field Name        Data Type       Description\n",
    "\n",
    "    FIPSTATE        C       FIPS State Code\n",
    "\n",
    "    FIPSCTY         C       FIPS County Code\n",
    "    \n",
    "    NAICS           C       Industry Code - 6-digit NAICS code.\n",
    "    \n",
    "    EMP_NF          C       Total Mid-March Employees Noise Flag (See all Noise Flag definitions at the end of this record layout)\n",
    "    \n",
    "    EMP             N       Total Mid-March Employees with Noise\n",
    "\n",
    "    QP1_NF          C       Total First Quarter Payroll Noise Flag\n",
    "    \n",
    "    QP1             N       Total First Quarter Payroll ($1,000) with Noise                                                        \n",
    "    \n",
    "    AP_NF           C       Total Annual Payroll Noise Flag\n",
    "    \n",
    "    AP              N       Total Annual Payroll ($1,000) with Noise\n",
    "    \n",
    "    EST             N       Total Number of Establishments\n",
    "    \n",
    "    N<5             N       Number of Establishments: Less than 5 Employee Size Class\n",
    "    \n",
    "    N5_9            N       Number of Establishments: 5-9 Employee Size Class\n",
    "    \n",
    "    N10_19          N       Number of Establishments: 10-19 Employee Size Class\n",
    "    \n",
    "    N20_49          N       Number of Establishments: 20-49 Employee Size Class\n",
    "    \n",
    "    N50_99          N       Number of Establishments: 50-99 Employee Size Class\n",
    "    \n",
    "    N100_249        N       Number of Establishments: 100-249 Employee Size Class\n",
    "    \n",
    "    N250_499        N       Number of Establishments: 250-499 Employee Size Class\n",
    "    \n",
    "    N500_999        N       Number of Establishments: 500-999 Employee Size Class\n",
    "    \n",
    "    N1000           N       Number of Establishments: 1,000 or More Employee Size Class\n",
    "    \n",
    "    N1000_1         N       Number of Establishments: Employment Size Class: 1,000-1,499 Employees\n",
    "    \n",
    "    N1000_2         N       Number of Establishments: Employment Size Class: 1,500-2,499 Employees\n",
    "    \n",
    "    N1000_3         N       Number of Establishments: Employment Size Class: 2,500-4,999 Employees\n",
    "    \n",
    "    N1000_4         N       Number of Establishments: Employment Size Class: 5,000 or More Employees\n",
    "    \n",
    "    CENSTATE        C       Census State Code\n",
    "    \n",
    "    CENCTY          C       Census County Code\n",
    "\n",
    "NOTE: Noise Flag definitions (fields ending in _NF) are:\n",
    "\n",
    "        G       0 to < 2% noise (low noise)\n",
    "        H       2 to < 5% noise (medium noise)\n",
    "        J       \t>= 5% noise (high noise)\n",
    "\n",
    "      Flag definition for Establishment by Employment Size Class fields (N<5, N5_9, etc.):\n",
    "\t\n",
    "\tN\tNot available or not comparable"
   ]
  },
  {
   "cell_type": "markdown",
   "id": "aaa8f084-1e9b-4654-bed4-3772dea70563",
   "metadata": {},
   "source": [
    "### Data Source"
   ]
  },
  {
   "cell_type": "markdown",
   "id": "e167116d-7bb8-4386-8f12-be9595a6fa56",
   "metadata": {},
   "source": [
    "https://www.census.gov/data/datasets/2019/econ/cbp/2019-cbp.html"
   ]
  },
  {
   "cell_type": "markdown",
   "id": "f62a8d1a-d43a-4a98-a748-b140878d04cd",
   "metadata": {},
   "source": [
    "### Correcting for 7 missing county data"
   ]
  },
  {
   "cell_type": "markdown",
   "id": "a4ff51c6-30d4-44df-a09d-fc2a4571b849",
   "metadata": {},
   "source": [
    "There are 7 very small population counties we made assumptions for this exercise.\n",
    "\n",
    "    King County, Texas (population 272) and \n",
    "    \n",
    "    Kalawao County, Hawaii (population 86)\n",
    "             \n",
    "             Were absent from the census data.  For these we proxied their respective states of Hawaii and Texas to represent their dominant industry representation.\n",
    "\n",
    "Similarly for,\n",
    "\n",
    "    Petroleum County, Montana \n",
    "\n",
    "    Arthur County, Nebraska \n",
    "\n",
    "    Banner County, Nebraska \n",
    "\n",
    "    Esmeralda County, Nevada \n",
    "\n",
    "    Borden County, Texas \n",
    "\n",
    "            Had \"Total County\" employment numbers but not industry specific.  For these we will also proxy their respective states of Montana, Nebraska, Nevada, and Texas to represent their industry dominant representation."
   ]
  },
  {
   "cell_type": "markdown",
   "id": "cc4f79dd-8773-4b39-9546-09d2ca65f73c",
   "metadata": {},
   "source": [
    "## Import Libraries"
   ]
  },
  {
   "cell_type": "code",
   "execution_count": 1,
   "id": "13beff40-b4b4-4ad3-bd74-0857140991d4",
   "metadata": {},
   "outputs": [],
   "source": [
    "import numpy as np\n",
    "import pandas as pd"
   ]
  },
  {
   "cell_type": "markdown",
   "id": "f96ef172-743a-42b6-911a-ae735fc75a49",
   "metadata": {},
   "source": [
    "## Read in raw county NAICS data and NAICS code to description mapping"
   ]
  },
  {
   "cell_type": "code",
   "execution_count": 2,
   "id": "069e2b0b-803c-45aa-9e3f-18f44b134ee7",
   "metadata": {},
   "outputs": [],
   "source": [
    "dat = pd.read_csv(\"cbp20co.txt\")\n",
    "map_dict = pd.read_csv(\"naics2017.txt\", encoding='cp1252')"
   ]
  },
  {
   "cell_type": "code",
   "execution_count": 3,
   "id": "732a5298-d836-4d77-bae0-41b3464a73c1",
   "metadata": {},
   "outputs": [
    {
     "data": {
      "text/html": [
       "<div>\n",
       "<style scoped>\n",
       "    .dataframe tbody tr th:only-of-type {\n",
       "        vertical-align: middle;\n",
       "    }\n",
       "\n",
       "    .dataframe tbody tr th {\n",
       "        vertical-align: top;\n",
       "    }\n",
       "\n",
       "    .dataframe thead th {\n",
       "        text-align: right;\n",
       "    }\n",
       "</style>\n",
       "<table border=\"1\" class=\"dataframe\">\n",
       "  <thead>\n",
       "    <tr style=\"text-align: right;\">\n",
       "      <th></th>\n",
       "      <th>fipstate</th>\n",
       "      <th>fipscty</th>\n",
       "      <th>naics</th>\n",
       "      <th>emp_nf</th>\n",
       "      <th>emp</th>\n",
       "      <th>qp1_nf</th>\n",
       "      <th>qp1</th>\n",
       "      <th>ap_nf</th>\n",
       "      <th>ap</th>\n",
       "      <th>est</th>\n",
       "      <th>...</th>\n",
       "      <th>n20_49</th>\n",
       "      <th>n50_99</th>\n",
       "      <th>n100_249</th>\n",
       "      <th>n250_499</th>\n",
       "      <th>n500_999</th>\n",
       "      <th>n1000</th>\n",
       "      <th>n1000_1</th>\n",
       "      <th>n1000_2</th>\n",
       "      <th>n1000_3</th>\n",
       "      <th>n1000_4</th>\n",
       "    </tr>\n",
       "  </thead>\n",
       "  <tbody>\n",
       "    <tr>\n",
       "      <th>0</th>\n",
       "      <td>1</td>\n",
       "      <td>1</td>\n",
       "      <td>------</td>\n",
       "      <td>G</td>\n",
       "      <td>11265</td>\n",
       "      <td>G</td>\n",
       "      <td>94865</td>\n",
       "      <td>G</td>\n",
       "      <td>385785</td>\n",
       "      <td>879</td>\n",
       "      <td>...</td>\n",
       "      <td>104</td>\n",
       "      <td>32</td>\n",
       "      <td>9</td>\n",
       "      <td>N</td>\n",
       "      <td>N</td>\n",
       "      <td>N</td>\n",
       "      <td>N</td>\n",
       "      <td>N</td>\n",
       "      <td>N</td>\n",
       "      <td>N</td>\n",
       "    </tr>\n",
       "    <tr>\n",
       "      <th>1</th>\n",
       "      <td>1</td>\n",
       "      <td>1</td>\n",
       "      <td>11----</td>\n",
       "      <td>H</td>\n",
       "      <td>92</td>\n",
       "      <td>G</td>\n",
       "      <td>1183</td>\n",
       "      <td>H</td>\n",
       "      <td>5232</td>\n",
       "      <td>10</td>\n",
       "      <td>...</td>\n",
       "      <td>N</td>\n",
       "      <td>N</td>\n",
       "      <td>N</td>\n",
       "      <td>N</td>\n",
       "      <td>N</td>\n",
       "      <td>N</td>\n",
       "      <td>N</td>\n",
       "      <td>N</td>\n",
       "      <td>N</td>\n",
       "      <td>N</td>\n",
       "    </tr>\n",
       "    <tr>\n",
       "      <th>2</th>\n",
       "      <td>1</td>\n",
       "      <td>1</td>\n",
       "      <td>113///</td>\n",
       "      <td>H</td>\n",
       "      <td>82</td>\n",
       "      <td>G</td>\n",
       "      <td>1075</td>\n",
       "      <td>G</td>\n",
       "      <td>4741</td>\n",
       "      <td>7</td>\n",
       "      <td>...</td>\n",
       "      <td>N</td>\n",
       "      <td>N</td>\n",
       "      <td>N</td>\n",
       "      <td>N</td>\n",
       "      <td>N</td>\n",
       "      <td>N</td>\n",
       "      <td>N</td>\n",
       "      <td>N</td>\n",
       "      <td>N</td>\n",
       "      <td>N</td>\n",
       "    </tr>\n",
       "    <tr>\n",
       "      <th>3</th>\n",
       "      <td>1</td>\n",
       "      <td>1</td>\n",
       "      <td>1133//</td>\n",
       "      <td>H</td>\n",
       "      <td>82</td>\n",
       "      <td>G</td>\n",
       "      <td>1075</td>\n",
       "      <td>G</td>\n",
       "      <td>4741</td>\n",
       "      <td>7</td>\n",
       "      <td>...</td>\n",
       "      <td>N</td>\n",
       "      <td>N</td>\n",
       "      <td>N</td>\n",
       "      <td>N</td>\n",
       "      <td>N</td>\n",
       "      <td>N</td>\n",
       "      <td>N</td>\n",
       "      <td>N</td>\n",
       "      <td>N</td>\n",
       "      <td>N</td>\n",
       "    </tr>\n",
       "    <tr>\n",
       "      <th>4</th>\n",
       "      <td>1</td>\n",
       "      <td>1</td>\n",
       "      <td>11331/</td>\n",
       "      <td>H</td>\n",
       "      <td>82</td>\n",
       "      <td>G</td>\n",
       "      <td>1075</td>\n",
       "      <td>G</td>\n",
       "      <td>4741</td>\n",
       "      <td>7</td>\n",
       "      <td>...</td>\n",
       "      <td>N</td>\n",
       "      <td>N</td>\n",
       "      <td>N</td>\n",
       "      <td>N</td>\n",
       "      <td>N</td>\n",
       "      <td>N</td>\n",
       "      <td>N</td>\n",
       "      <td>N</td>\n",
       "      <td>N</td>\n",
       "      <td>N</td>\n",
       "    </tr>\n",
       "  </tbody>\n",
       "</table>\n",
       "<p>5 rows × 23 columns</p>\n",
       "</div>"
      ],
      "text/plain": [
       "   fipstate  fipscty   naics emp_nf    emp qp1_nf    qp1 ap_nf      ap  est  \\\n",
       "0         1        1  ------      G  11265      G  94865     G  385785  879   \n",
       "1         1        1  11----      H     92      G   1183     H    5232   10   \n",
       "2         1        1  113///      H     82      G   1075     G    4741    7   \n",
       "3         1        1  1133//      H     82      G   1075     G    4741    7   \n",
       "4         1        1  11331/      H     82      G   1075     G    4741    7   \n",
       "\n",
       "   ... n20_49 n50_99 n100_249 n250_499 n500_999 n1000 n1000_1 n1000_2 n1000_3  \\\n",
       "0  ...    104     32        9        N        N     N       N       N       N   \n",
       "1  ...      N      N        N        N        N     N       N       N       N   \n",
       "2  ...      N      N        N        N        N     N       N       N       N   \n",
       "3  ...      N      N        N        N        N     N       N       N       N   \n",
       "4  ...      N      N        N        N        N     N       N       N       N   \n",
       "\n",
       "  n1000_4  \n",
       "0       N  \n",
       "1       N  \n",
       "2       N  \n",
       "3       N  \n",
       "4       N  \n",
       "\n",
       "[5 rows x 23 columns]"
      ]
     },
     "execution_count": 3,
     "metadata": {},
     "output_type": "execute_result"
    }
   ],
   "source": [
    "#view NAIC structure\n",
    "dat.head()"
   ]
  },
  {
   "cell_type": "code",
   "execution_count": 4,
   "id": "9e32876b-170b-43b5-8c8c-843c674b36de",
   "metadata": {},
   "outputs": [
    {
     "data": {
      "text/html": [
       "<div>\n",
       "<style scoped>\n",
       "    .dataframe tbody tr th:only-of-type {\n",
       "        vertical-align: middle;\n",
       "    }\n",
       "\n",
       "    .dataframe tbody tr th {\n",
       "        vertical-align: top;\n",
       "    }\n",
       "\n",
       "    .dataframe thead th {\n",
       "        text-align: right;\n",
       "    }\n",
       "</style>\n",
       "<table border=\"1\" class=\"dataframe\">\n",
       "  <thead>\n",
       "    <tr style=\"text-align: right;\">\n",
       "      <th></th>\n",
       "      <th>NAICS</th>\n",
       "      <th>DESCRIPTION</th>\n",
       "    </tr>\n",
       "  </thead>\n",
       "  <tbody>\n",
       "    <tr>\n",
       "      <th>0</th>\n",
       "      <td>------</td>\n",
       "      <td>Total for all sectors</td>\n",
       "    </tr>\n",
       "    <tr>\n",
       "      <th>1</th>\n",
       "      <td>11----</td>\n",
       "      <td>Agriculture, Forestry, Fishing and Hunting</td>\n",
       "    </tr>\n",
       "    <tr>\n",
       "      <th>2</th>\n",
       "      <td>113///</td>\n",
       "      <td>Forestry and Logging</td>\n",
       "    </tr>\n",
       "    <tr>\n",
       "      <th>3</th>\n",
       "      <td>1131//</td>\n",
       "      <td>Timber Tract Operations</td>\n",
       "    </tr>\n",
       "    <tr>\n",
       "      <th>4</th>\n",
       "      <td>11311/</td>\n",
       "      <td>Timber Tract Operations</td>\n",
       "    </tr>\n",
       "  </tbody>\n",
       "</table>\n",
       "</div>"
      ],
      "text/plain": [
       "    NAICS                                 DESCRIPTION\n",
       "0  ------                       Total for all sectors\n",
       "1  11----  Agriculture, Forestry, Fishing and Hunting\n",
       "2  113///                        Forestry and Logging\n",
       "3  1131//                     Timber Tract Operations\n",
       "4  11311/                     Timber Tract Operations"
      ]
     },
     "execution_count": 4,
     "metadata": {},
     "output_type": "execute_result"
    }
   ],
   "source": [
    "#view NAIC code structure\n",
    "map_dict.head()"
   ]
  },
  {
   "cell_type": "markdown",
   "id": "726fcdd0-ef71-4a2f-91dd-8c74531d381b",
   "metadata": {},
   "source": [
    "## Transform NAIC code table to mapping dictionary"
   ]
  },
  {
   "cell_type": "code",
   "execution_count": 5,
   "id": "d85072c4-4fb3-49d1-bde1-b798601c9ea1",
   "metadata": {},
   "outputs": [],
   "source": [
    "map_replace = dict(zip(map_dict.NAICS, map_dict.DESCRIPTION))"
   ]
  },
  {
   "cell_type": "code",
   "execution_count": 6,
   "id": "23f3f7e4-5e56-476e-a8f0-9182f376877f",
   "metadata": {},
   "outputs": [],
   "source": [
    "dat['naics'] = dat['naics'].map(map_replace)"
   ]
  },
  {
   "cell_type": "code",
   "execution_count": 7,
   "id": "f2d2d79f-02aa-4024-8222-e8211b15d07c",
   "metadata": {},
   "outputs": [
    {
     "data": {
      "text/html": [
       "<div>\n",
       "<style scoped>\n",
       "    .dataframe tbody tr th:only-of-type {\n",
       "        vertical-align: middle;\n",
       "    }\n",
       "\n",
       "    .dataframe tbody tr th {\n",
       "        vertical-align: top;\n",
       "    }\n",
       "\n",
       "    .dataframe thead th {\n",
       "        text-align: right;\n",
       "    }\n",
       "</style>\n",
       "<table border=\"1\" class=\"dataframe\">\n",
       "  <thead>\n",
       "    <tr style=\"text-align: right;\">\n",
       "      <th></th>\n",
       "      <th>fipstate</th>\n",
       "      <th>fipscty</th>\n",
       "      <th>naics</th>\n",
       "      <th>emp_nf</th>\n",
       "      <th>emp</th>\n",
       "      <th>qp1_nf</th>\n",
       "      <th>qp1</th>\n",
       "      <th>ap_nf</th>\n",
       "      <th>ap</th>\n",
       "      <th>est</th>\n",
       "      <th>...</th>\n",
       "      <th>n20_49</th>\n",
       "      <th>n50_99</th>\n",
       "      <th>n100_249</th>\n",
       "      <th>n250_499</th>\n",
       "      <th>n500_999</th>\n",
       "      <th>n1000</th>\n",
       "      <th>n1000_1</th>\n",
       "      <th>n1000_2</th>\n",
       "      <th>n1000_3</th>\n",
       "      <th>n1000_4</th>\n",
       "    </tr>\n",
       "  </thead>\n",
       "  <tbody>\n",
       "    <tr>\n",
       "      <th>0</th>\n",
       "      <td>1</td>\n",
       "      <td>1</td>\n",
       "      <td>Total for all sectors</td>\n",
       "      <td>G</td>\n",
       "      <td>11265</td>\n",
       "      <td>G</td>\n",
       "      <td>94865</td>\n",
       "      <td>G</td>\n",
       "      <td>385785</td>\n",
       "      <td>879</td>\n",
       "      <td>...</td>\n",
       "      <td>104</td>\n",
       "      <td>32</td>\n",
       "      <td>9</td>\n",
       "      <td>N</td>\n",
       "      <td>N</td>\n",
       "      <td>N</td>\n",
       "      <td>N</td>\n",
       "      <td>N</td>\n",
       "      <td>N</td>\n",
       "      <td>N</td>\n",
       "    </tr>\n",
       "    <tr>\n",
       "      <th>1</th>\n",
       "      <td>1</td>\n",
       "      <td>1</td>\n",
       "      <td>Agriculture, Forestry, Fishing and Hunting</td>\n",
       "      <td>H</td>\n",
       "      <td>92</td>\n",
       "      <td>G</td>\n",
       "      <td>1183</td>\n",
       "      <td>H</td>\n",
       "      <td>5232</td>\n",
       "      <td>10</td>\n",
       "      <td>...</td>\n",
       "      <td>N</td>\n",
       "      <td>N</td>\n",
       "      <td>N</td>\n",
       "      <td>N</td>\n",
       "      <td>N</td>\n",
       "      <td>N</td>\n",
       "      <td>N</td>\n",
       "      <td>N</td>\n",
       "      <td>N</td>\n",
       "      <td>N</td>\n",
       "    </tr>\n",
       "    <tr>\n",
       "      <th>2</th>\n",
       "      <td>1</td>\n",
       "      <td>1</td>\n",
       "      <td>Forestry and Logging</td>\n",
       "      <td>H</td>\n",
       "      <td>82</td>\n",
       "      <td>G</td>\n",
       "      <td>1075</td>\n",
       "      <td>G</td>\n",
       "      <td>4741</td>\n",
       "      <td>7</td>\n",
       "      <td>...</td>\n",
       "      <td>N</td>\n",
       "      <td>N</td>\n",
       "      <td>N</td>\n",
       "      <td>N</td>\n",
       "      <td>N</td>\n",
       "      <td>N</td>\n",
       "      <td>N</td>\n",
       "      <td>N</td>\n",
       "      <td>N</td>\n",
       "      <td>N</td>\n",
       "    </tr>\n",
       "  </tbody>\n",
       "</table>\n",
       "<p>3 rows × 23 columns</p>\n",
       "</div>"
      ],
      "text/plain": [
       "   fipstate  fipscty                                       naics emp_nf  \\\n",
       "0         1        1                       Total for all sectors      G   \n",
       "1         1        1  Agriculture, Forestry, Fishing and Hunting      H   \n",
       "2         1        1                        Forestry and Logging      H   \n",
       "\n",
       "     emp qp1_nf    qp1 ap_nf      ap  est  ... n20_49 n50_99 n100_249  \\\n",
       "0  11265      G  94865     G  385785  879  ...    104     32        9   \n",
       "1     92      G   1183     H    5232   10  ...      N      N        N   \n",
       "2     82      G   1075     G    4741    7  ...      N      N        N   \n",
       "\n",
       "  n250_499 n500_999 n1000 n1000_1 n1000_2 n1000_3 n1000_4  \n",
       "0        N        N     N       N       N       N       N  \n",
       "1        N        N     N       N       N       N       N  \n",
       "2        N        N     N       N       N       N       N  \n",
       "\n",
       "[3 rows x 23 columns]"
      ]
     },
     "execution_count": 7,
     "metadata": {},
     "output_type": "execute_result"
    }
   ],
   "source": [
    "dat.head(3)"
   ]
  },
  {
   "cell_type": "code",
   "execution_count": 8,
   "id": "48b2f800-fa0f-4cf1-8be1-df13481ddaf1",
   "metadata": {},
   "outputs": [],
   "source": [
    "# add leading 0's\n",
    "dat['fipscty']=dat['fipscty'].apply(lambda x: '{0:0>3}'.format(x))\n",
    "dat['fipstate']=dat['fipstate'].apply(lambda x: '{0:0>2}'.format(x))"
   ]
  },
  {
   "cell_type": "code",
   "execution_count": 9,
   "id": "b2d4696d-c4f3-4421-a978-ce9ede212dd4",
   "metadata": {},
   "outputs": [],
   "source": [
    "# combine state and city FIPS\n",
    "dat['FIPS'] = dat['fipstate'].astype(str) + dat['fipscty'].astype(str)"
   ]
  },
  {
   "cell_type": "code",
   "execution_count": 10,
   "id": "ae2edb9b-86a5-4d29-b56a-f0c9087a7cf8",
   "metadata": {},
   "outputs": [],
   "source": [
    "# We hold out whole state data, those entries ending in '999' to correct for the 7 counties represented above: Hawaii, Montana, Nebraska, Nevada, Texas (15999, 30999, 31999, 32999, 48999)\n",
    "hold_st_list = ('15999', '30999', '31999', '32999', '48999')"
   ]
  },
  {
   "cell_type": "code",
   "execution_count": 11,
   "id": "aab6d252-aa4c-48bd-9595-d37b14ddf345",
   "metadata": {},
   "outputs": [],
   "source": [
    "#df.loc[df['column_name'].isin(some_values)]\n",
    "hold_dat = dat.loc[dat['FIPS'].isin(hold_st_list)]"
   ]
  },
  {
   "cell_type": "code",
   "execution_count": 12,
   "id": "4623291f-167c-4e76-b7d8-d572f5808f8c",
   "metadata": {},
   "outputs": [
    {
     "data": {
      "text/html": [
       "<div>\n",
       "<style scoped>\n",
       "    .dataframe tbody tr th:only-of-type {\n",
       "        vertical-align: middle;\n",
       "    }\n",
       "\n",
       "    .dataframe tbody tr th {\n",
       "        vertical-align: top;\n",
       "    }\n",
       "\n",
       "    .dataframe thead th {\n",
       "        text-align: right;\n",
       "    }\n",
       "</style>\n",
       "<table border=\"1\" class=\"dataframe\">\n",
       "  <thead>\n",
       "    <tr style=\"text-align: right;\">\n",
       "      <th></th>\n",
       "      <th>fipstate</th>\n",
       "      <th>fipscty</th>\n",
       "      <th>naics</th>\n",
       "      <th>emp_nf</th>\n",
       "      <th>emp</th>\n",
       "      <th>qp1_nf</th>\n",
       "      <th>qp1</th>\n",
       "      <th>ap_nf</th>\n",
       "      <th>ap</th>\n",
       "      <th>est</th>\n",
       "      <th>...</th>\n",
       "      <th>n50_99</th>\n",
       "      <th>n100_249</th>\n",
       "      <th>n250_499</th>\n",
       "      <th>n500_999</th>\n",
       "      <th>n1000</th>\n",
       "      <th>n1000_1</th>\n",
       "      <th>n1000_2</th>\n",
       "      <th>n1000_3</th>\n",
       "      <th>n1000_4</th>\n",
       "      <th>FIPS</th>\n",
       "    </tr>\n",
       "  </thead>\n",
       "  <tbody>\n",
       "    <tr>\n",
       "      <th>0</th>\n",
       "      <td>01</td>\n",
       "      <td>001</td>\n",
       "      <td>Total for all sectors</td>\n",
       "      <td>G</td>\n",
       "      <td>11265</td>\n",
       "      <td>G</td>\n",
       "      <td>94865</td>\n",
       "      <td>G</td>\n",
       "      <td>385785</td>\n",
       "      <td>879</td>\n",
       "      <td>...</td>\n",
       "      <td>32</td>\n",
       "      <td>9</td>\n",
       "      <td>N</td>\n",
       "      <td>N</td>\n",
       "      <td>N</td>\n",
       "      <td>N</td>\n",
       "      <td>N</td>\n",
       "      <td>N</td>\n",
       "      <td>N</td>\n",
       "      <td>01001</td>\n",
       "    </tr>\n",
       "    <tr>\n",
       "      <th>1</th>\n",
       "      <td>01</td>\n",
       "      <td>001</td>\n",
       "      <td>Agriculture, Forestry, Fishing and Hunting</td>\n",
       "      <td>H</td>\n",
       "      <td>92</td>\n",
       "      <td>G</td>\n",
       "      <td>1183</td>\n",
       "      <td>H</td>\n",
       "      <td>5232</td>\n",
       "      <td>10</td>\n",
       "      <td>...</td>\n",
       "      <td>N</td>\n",
       "      <td>N</td>\n",
       "      <td>N</td>\n",
       "      <td>N</td>\n",
       "      <td>N</td>\n",
       "      <td>N</td>\n",
       "      <td>N</td>\n",
       "      <td>N</td>\n",
       "      <td>N</td>\n",
       "      <td>01001</td>\n",
       "    </tr>\n",
       "    <tr>\n",
       "      <th>2</th>\n",
       "      <td>01</td>\n",
       "      <td>001</td>\n",
       "      <td>Forestry and Logging</td>\n",
       "      <td>H</td>\n",
       "      <td>82</td>\n",
       "      <td>G</td>\n",
       "      <td>1075</td>\n",
       "      <td>G</td>\n",
       "      <td>4741</td>\n",
       "      <td>7</td>\n",
       "      <td>...</td>\n",
       "      <td>N</td>\n",
       "      <td>N</td>\n",
       "      <td>N</td>\n",
       "      <td>N</td>\n",
       "      <td>N</td>\n",
       "      <td>N</td>\n",
       "      <td>N</td>\n",
       "      <td>N</td>\n",
       "      <td>N</td>\n",
       "      <td>01001</td>\n",
       "    </tr>\n",
       "  </tbody>\n",
       "</table>\n",
       "<p>3 rows × 24 columns</p>\n",
       "</div>"
      ],
      "text/plain": [
       "  fipstate fipscty                                       naics emp_nf    emp  \\\n",
       "0       01     001                       Total for all sectors      G  11265   \n",
       "1       01     001  Agriculture, Forestry, Fishing and Hunting      H     92   \n",
       "2       01     001                        Forestry and Logging      H     82   \n",
       "\n",
       "  qp1_nf    qp1 ap_nf      ap  est  ... n50_99 n100_249 n250_499 n500_999  \\\n",
       "0      G  94865     G  385785  879  ...     32        9        N        N   \n",
       "1      G   1183     H    5232   10  ...      N        N        N        N   \n",
       "2      G   1075     G    4741    7  ...      N        N        N        N   \n",
       "\n",
       "  n1000 n1000_1 n1000_2 n1000_3 n1000_4   FIPS  \n",
       "0     N       N       N       N       N  01001  \n",
       "1     N       N       N       N       N  01001  \n",
       "2     N       N       N       N       N  01001  \n",
       "\n",
       "[3 rows x 24 columns]"
      ]
     },
     "execution_count": 12,
     "metadata": {},
     "output_type": "execute_result"
    }
   ],
   "source": [
    "dat.head(3)"
   ]
  },
  {
   "cell_type": "code",
   "execution_count": 13,
   "id": "8fc473ec-970c-47a7-b8cd-6f274977ddfe",
   "metadata": {},
   "outputs": [],
   "source": [
    "# Now we can remove the '999'\n",
    "dat = dat[~dat['FIPS'].str.endswith('999')]"
   ]
  },
  {
   "cell_type": "code",
   "execution_count": 14,
   "id": "63273115-b57e-4269-9e47-c36c4a7897c3",
   "metadata": {},
   "outputs": [],
   "source": [
    "# Remove rows with NAIC of 'Total for all sectors', also for the hold-dat\n",
    "dat = dat[~dat['naics'].str.endswith('Total for all sectors')]\n",
    "hold_dat = hold_dat[~hold_dat['naics'].str.endswith('Total for all sectors')]"
   ]
  },
  {
   "cell_type": "code",
   "execution_count": 15,
   "id": "1660ca1b-7769-431f-9425-6a07e9c36ed1",
   "metadata": {},
   "outputs": [],
   "source": [
    "# Reduce df Columns\n",
    "mycols = ['FIPS','naics','emp']\n",
    "dat_slim = dat[mycols]\n",
    "hold_dat_slim = hold_dat[mycols]"
   ]
  },
  {
   "cell_type": "code",
   "execution_count": 16,
   "id": "a4f87a26-1ea3-41bf-9d83-da2cb3879b52",
   "metadata": {},
   "outputs": [
    {
     "data": {
      "text/html": [
       "<div>\n",
       "<style scoped>\n",
       "    .dataframe tbody tr th:only-of-type {\n",
       "        vertical-align: middle;\n",
       "    }\n",
       "\n",
       "    .dataframe tbody tr th {\n",
       "        vertical-align: top;\n",
       "    }\n",
       "\n",
       "    .dataframe thead th {\n",
       "        text-align: right;\n",
       "    }\n",
       "</style>\n",
       "<table border=\"1\" class=\"dataframe\">\n",
       "  <thead>\n",
       "    <tr style=\"text-align: right;\">\n",
       "      <th></th>\n",
       "      <th>FIPS</th>\n",
       "      <th>naics</th>\n",
       "      <th>emp</th>\n",
       "    </tr>\n",
       "  </thead>\n",
       "  <tbody>\n",
       "    <tr>\n",
       "      <th>1</th>\n",
       "      <td>01001</td>\n",
       "      <td>Agriculture, Forestry, Fishing and Hunting</td>\n",
       "      <td>92</td>\n",
       "    </tr>\n",
       "    <tr>\n",
       "      <th>2</th>\n",
       "      <td>01001</td>\n",
       "      <td>Forestry and Logging</td>\n",
       "      <td>82</td>\n",
       "    </tr>\n",
       "    <tr>\n",
       "      <th>3</th>\n",
       "      <td>01001</td>\n",
       "      <td>Logging</td>\n",
       "      <td>82</td>\n",
       "    </tr>\n",
       "  </tbody>\n",
       "</table>\n",
       "</div>"
      ],
      "text/plain": [
       "    FIPS                                       naics  emp\n",
       "1  01001  Agriculture, Forestry, Fishing and Hunting   92\n",
       "2  01001                        Forestry and Logging   82\n",
       "3  01001                                     Logging   82"
      ]
     },
     "execution_count": 16,
     "metadata": {},
     "output_type": "execute_result"
    }
   ],
   "source": [
    "#dat_slim\n",
    "dat_slim.head(3)"
   ]
  },
  {
   "cell_type": "code",
   "execution_count": 17,
   "id": "4de5a467-77d5-4be1-ab5f-05ccb51f4b63",
   "metadata": {},
   "outputs": [
    {
     "data": {
      "text/html": [
       "<div>\n",
       "<style scoped>\n",
       "    .dataframe tbody tr th:only-of-type {\n",
       "        vertical-align: middle;\n",
       "    }\n",
       "\n",
       "    .dataframe tbody tr th {\n",
       "        vertical-align: top;\n",
       "    }\n",
       "\n",
       "    .dataframe thead th {\n",
       "        text-align: right;\n",
       "    }\n",
       "</style>\n",
       "<table border=\"1\" class=\"dataframe\">\n",
       "  <thead>\n",
       "    <tr style=\"text-align: right;\">\n",
       "      <th></th>\n",
       "      <th>FIPS</th>\n",
       "      <th>naics</th>\n",
       "      <th>emp</th>\n",
       "    </tr>\n",
       "  </thead>\n",
       "  <tbody>\n",
       "    <tr>\n",
       "      <th>223112</th>\n",
       "      <td>15999</td>\n",
       "      <td>Wholesale Trade</td>\n",
       "      <td>474</td>\n",
       "    </tr>\n",
       "    <tr>\n",
       "      <th>223113</th>\n",
       "      <td>15999</td>\n",
       "      <td>Merchant Wholesalers, Durable Goods</td>\n",
       "      <td>277</td>\n",
       "    </tr>\n",
       "    <tr>\n",
       "      <th>223114</th>\n",
       "      <td>15999</td>\n",
       "      <td>Professional and Commercial Equipment and Supp...</td>\n",
       "      <td>247</td>\n",
       "    </tr>\n",
       "  </tbody>\n",
       "</table>\n",
       "</div>"
      ],
      "text/plain": [
       "         FIPS                                              naics  emp\n",
       "223112  15999                                    Wholesale Trade  474\n",
       "223113  15999                Merchant Wholesalers, Durable Goods  277\n",
       "223114  15999  Professional and Commercial Equipment and Supp...  247"
      ]
     },
     "execution_count": 17,
     "metadata": {},
     "output_type": "execute_result"
    }
   ],
   "source": [
    "hold_dat_slim.head(3)"
   ]
  },
  {
   "cell_type": "code",
   "execution_count": 18,
   "id": "599ac4f0-8a12-45d6-bc0c-04641c9c46b0",
   "metadata": {},
   "outputs": [],
   "source": [
    "hold_hi_kalawao = hold_dat_slim.loc[hold_dat_slim['FIPS'] == '15999']\n",
    "hold_mn_petroleum = hold_dat_slim.loc[hold_dat_slim['FIPS'] == '30999']\n",
    "hold_nb_arthur = hold_dat_slim.loc[hold_dat_slim['FIPS'] == '31999']\n",
    "hold_nb_banner = hold_dat_slim.loc[hold_dat_slim['FIPS'] == '31999']\n",
    "hold_nv_esmeralda = hold_dat_slim.loc[hold_dat_slim['FIPS'] == '32999']\n",
    "hold_tx_king = hold_dat_slim.loc[hold_dat_slim['FIPS'] == '48999']\n",
    "hold_tx_borden = hold_dat_slim.loc[hold_dat_slim['FIPS'] == '48999']"
   ]
  },
  {
   "cell_type": "code",
   "execution_count": 19,
   "id": "d64262d4-a39d-4a71-a304-b064c316703a",
   "metadata": {},
   "outputs": [
    {
     "name": "stderr",
     "output_type": "stream",
     "text": [
      "C:\\Users\\NickD\\AppData\\Local\\Temp\\ipykernel_9496\\1392782643.py:1: SettingWithCopyWarning: \n",
      "A value is trying to be set on a copy of a slice from a DataFrame.\n",
      "Try using .loc[row_indexer,col_indexer] = value instead\n",
      "\n",
      "See the caveats in the documentation: https://pandas.pydata.org/pandas-docs/stable/user_guide/indexing.html#returning-a-view-versus-a-copy\n",
      "  hold_hi_kalawao['FIPS'] = hold_hi_kalawao['FIPS'].replace('15999','15005')\n",
      "C:\\Users\\NickD\\AppData\\Local\\Temp\\ipykernel_9496\\1392782643.py:2: SettingWithCopyWarning: \n",
      "A value is trying to be set on a copy of a slice from a DataFrame.\n",
      "Try using .loc[row_indexer,col_indexer] = value instead\n",
      "\n",
      "See the caveats in the documentation: https://pandas.pydata.org/pandas-docs/stable/user_guide/indexing.html#returning-a-view-versus-a-copy\n",
      "  hold_mn_petroleum['FIPS'] = hold_mn_petroleum['FIPS'].replace('30999','30069')\n",
      "C:\\Users\\NickD\\AppData\\Local\\Temp\\ipykernel_9496\\1392782643.py:3: SettingWithCopyWarning: \n",
      "A value is trying to be set on a copy of a slice from a DataFrame.\n",
      "Try using .loc[row_indexer,col_indexer] = value instead\n",
      "\n",
      "See the caveats in the documentation: https://pandas.pydata.org/pandas-docs/stable/user_guide/indexing.html#returning-a-view-versus-a-copy\n",
      "  hold_nb_arthur['FIPS'] = hold_nb_arthur['FIPS'].replace('31999','31005')\n",
      "C:\\Users\\NickD\\AppData\\Local\\Temp\\ipykernel_9496\\1392782643.py:4: SettingWithCopyWarning: \n",
      "A value is trying to be set on a copy of a slice from a DataFrame.\n",
      "Try using .loc[row_indexer,col_indexer] = value instead\n",
      "\n",
      "See the caveats in the documentation: https://pandas.pydata.org/pandas-docs/stable/user_guide/indexing.html#returning-a-view-versus-a-copy\n",
      "  hold_nb_banner['FIPS'] = hold_nb_banner['FIPS'].replace('31999','31007')\n",
      "C:\\Users\\NickD\\AppData\\Local\\Temp\\ipykernel_9496\\1392782643.py:5: SettingWithCopyWarning: \n",
      "A value is trying to be set on a copy of a slice from a DataFrame.\n",
      "Try using .loc[row_indexer,col_indexer] = value instead\n",
      "\n",
      "See the caveats in the documentation: https://pandas.pydata.org/pandas-docs/stable/user_guide/indexing.html#returning-a-view-versus-a-copy\n",
      "  hold_nv_esmeralda['FIPS'] = hold_nv_esmeralda['FIPS'].replace('32999','32009')\n",
      "C:\\Users\\NickD\\AppData\\Local\\Temp\\ipykernel_9496\\1392782643.py:6: SettingWithCopyWarning: \n",
      "A value is trying to be set on a copy of a slice from a DataFrame.\n",
      "Try using .loc[row_indexer,col_indexer] = value instead\n",
      "\n",
      "See the caveats in the documentation: https://pandas.pydata.org/pandas-docs/stable/user_guide/indexing.html#returning-a-view-versus-a-copy\n",
      "  hold_tx_king['FIPS'] = hold_tx_king['FIPS'].replace('48999','48033')\n",
      "C:\\Users\\NickD\\AppData\\Local\\Temp\\ipykernel_9496\\1392782643.py:7: SettingWithCopyWarning: \n",
      "A value is trying to be set on a copy of a slice from a DataFrame.\n",
      "Try using .loc[row_indexer,col_indexer] = value instead\n",
      "\n",
      "See the caveats in the documentation: https://pandas.pydata.org/pandas-docs/stable/user_guide/indexing.html#returning-a-view-versus-a-copy\n",
      "  hold_tx_borden['FIPS'] = hold_tx_borden['FIPS'].replace('48999','48269')\n"
     ]
    }
   ],
   "source": [
    "hold_hi_kalawao['FIPS'] = hold_hi_kalawao['FIPS'].replace('15999','15005')\n",
    "hold_mn_petroleum['FIPS'] = hold_mn_petroleum['FIPS'].replace('30999','30069')\n",
    "hold_nb_arthur['FIPS'] = hold_nb_arthur['FIPS'].replace('31999','31005')\n",
    "hold_nb_banner['FIPS'] = hold_nb_banner['FIPS'].replace('31999','31007')\n",
    "hold_nv_esmeralda['FIPS'] = hold_nv_esmeralda['FIPS'].replace('32999','32009')\n",
    "hold_tx_king['FIPS'] = hold_tx_king['FIPS'].replace('48999','48033')\n",
    "hold_tx_borden['FIPS'] = hold_tx_borden['FIPS'].replace('48999','48269')"
   ]
  },
  {
   "cell_type": "code",
   "execution_count": 20,
   "id": "f50c768b-b58d-4bcd-8c7e-a89d1c9d0588",
   "metadata": {},
   "outputs": [],
   "source": [
    "hold_dat_slim_new = pd.concat([hold_hi_kalawao, hold_mn_petroleum, hold_nb_arthur, hold_nb_banner, hold_nv_esmeralda, hold_tx_king, hold_tx_borden], ignore_index=True, axis=0)"
   ]
  },
  {
   "cell_type": "code",
   "execution_count": 21,
   "id": "4c903c7e-fffa-4388-9380-211dddd4b537",
   "metadata": {},
   "outputs": [],
   "source": [
    "dat_slim_new = pd.concat([dat_slim, hold_dat_slim_new], ignore_index=True, axis=0)"
   ]
  },
  {
   "cell_type": "code",
   "execution_count": 22,
   "id": "2631b097-c9ed-40bd-88a7-f2e304e196e1",
   "metadata": {},
   "outputs": [
    {
     "data": {
      "text/plain": [
       "1369"
      ]
     },
     "execution_count": 22,
     "metadata": {},
     "output_type": "execute_result"
    }
   ],
   "source": [
    "#length of unique NAIC codes\n",
    "len(pd.unique(dat_slim['naics']))"
   ]
  },
  {
   "cell_type": "code",
   "execution_count": 23,
   "id": "980ee6d2-b8b9-4fb6-be53-6178ce258f6a",
   "metadata": {},
   "outputs": [
    {
     "data": {
      "text/plain": [
       "1369"
      ]
     },
     "execution_count": 23,
     "metadata": {},
     "output_type": "execute_result"
    }
   ],
   "source": [
    "#length of unique NAIC codes NEW\n",
    "len(pd.unique(dat_slim_new['naics']))"
   ]
  },
  {
   "cell_type": "code",
   "execution_count": 24,
   "id": "1b7f84b3-c4bb-47ae-a42f-20b431e15ea5",
   "metadata": {},
   "outputs": [
    {
     "data": {
      "text/plain": [
       "3135"
      ]
     },
     "execution_count": 24,
     "metadata": {},
     "output_type": "execute_result"
    }
   ],
   "source": [
    "# Number of FIP codes (should be 3135)\n",
    "len(pd.unique(dat_slim['FIPS']))"
   ]
  },
  {
   "cell_type": "code",
   "execution_count": 25,
   "id": "b89a33ab-ce2a-44b6-abf3-87f330a8c110",
   "metadata": {},
   "outputs": [
    {
     "data": {
      "text/plain": [
       "3142"
      ]
     },
     "execution_count": 25,
     "metadata": {},
     "output_type": "execute_result"
    }
   ],
   "source": [
    "# Number of FIP codes NEW(should be 3142)\n",
    "len(pd.unique(dat_slim_new['FIPS']))"
   ]
  },
  {
   "cell_type": "markdown",
   "id": "89db8ae3-3f42-4625-8556-e00ebbc3623d",
   "metadata": {},
   "source": [
    "## Return FIPS .csv if needed"
   ]
  },
  {
   "cell_type": "code",
   "execution_count": 26,
   "id": "de0b97aa-5147-4ba4-a443-e409b3792773",
   "metadata": {},
   "outputs": [],
   "source": [
    "### fips_list = pd.unique(dat_slim_new['FIPS'])"
   ]
  },
  {
   "cell_type": "code",
   "execution_count": 27,
   "id": "a7c8a0a6-840d-4ae0-9e6b-3a1fb3c52bae",
   "metadata": {},
   "outputs": [],
   "source": [
    "### fips_df = pd.DataFrame(fips_list)"
   ]
  },
  {
   "cell_type": "code",
   "execution_count": 28,
   "id": "2cfdbad6-802d-43bd-b926-0d361f234f66",
   "metadata": {},
   "outputs": [],
   "source": [
    "### fips_df.to_csv('fipsDF.csv')"
   ]
  },
  {
   "cell_type": "markdown",
   "id": "9c452c30-81d8-4839-8c56-4bace3cda7f1",
   "metadata": {},
   "source": [
    "## Get maximum number of employee by FIPS code"
   ]
  },
  {
   "cell_type": "code",
   "execution_count": 29,
   "id": "d355b316-d12b-4d94-9a47-39fc88ac9997",
   "metadata": {},
   "outputs": [
    {
     "data": {
      "text/html": [
       "<div>\n",
       "<style scoped>\n",
       "    .dataframe tbody tr th:only-of-type {\n",
       "        vertical-align: middle;\n",
       "    }\n",
       "\n",
       "    .dataframe tbody tr th {\n",
       "        vertical-align: top;\n",
       "    }\n",
       "\n",
       "    .dataframe thead th {\n",
       "        text-align: right;\n",
       "    }\n",
       "</style>\n",
       "<table border=\"1\" class=\"dataframe\">\n",
       "  <thead>\n",
       "    <tr style=\"text-align: right;\">\n",
       "      <th></th>\n",
       "      <th>FIPS</th>\n",
       "      <th>naics</th>\n",
       "      <th>emp</th>\n",
       "    </tr>\n",
       "  </thead>\n",
       "  <tbody>\n",
       "    <tr>\n",
       "      <th>0</th>\n",
       "      <td>01001</td>\n",
       "      <td>Agriculture, Forestry, Fishing and Hunting</td>\n",
       "      <td>92</td>\n",
       "    </tr>\n",
       "    <tr>\n",
       "      <th>1</th>\n",
       "      <td>01001</td>\n",
       "      <td>Forestry and Logging</td>\n",
       "      <td>82</td>\n",
       "    </tr>\n",
       "    <tr>\n",
       "      <th>2</th>\n",
       "      <td>01001</td>\n",
       "      <td>Logging</td>\n",
       "      <td>82</td>\n",
       "    </tr>\n",
       "  </tbody>\n",
       "</table>\n",
       "</div>"
      ],
      "text/plain": [
       "    FIPS                                       naics  emp\n",
       "0  01001  Agriculture, Forestry, Fishing and Hunting   92\n",
       "1  01001                        Forestry and Logging   82\n",
       "2  01001                                     Logging   82"
      ]
     },
     "execution_count": 29,
     "metadata": {},
     "output_type": "execute_result"
    }
   ],
   "source": [
    "dat_slim_new.head(3)"
   ]
  },
  {
   "cell_type": "code",
   "execution_count": 30,
   "id": "47eb3468-db33-43aa-b2d0-bb8a4562190e",
   "metadata": {},
   "outputs": [],
   "source": [
    "county_industry = dat_slim_new.loc[dat_slim_new.groupby('FIPS')['emp'].idxmax()].set_index('FIPS')"
   ]
  },
  {
   "cell_type": "code",
   "execution_count": 31,
   "id": "4d37b766-2b03-4682-8f6a-9483be62e35a",
   "metadata": {},
   "outputs": [],
   "source": [
    "county_industry = county_industry.drop('emp', axis=1).sort_index()"
   ]
  },
  {
   "cell_type": "code",
   "execution_count": 32,
   "id": "5467280c-5eb0-4be4-a710-e8a558475997",
   "metadata": {},
   "outputs": [],
   "source": [
    "county_industry.to_csv('county_industry.csv')"
   ]
  },
  {
   "cell_type": "code",
   "execution_count": 33,
   "id": "1647d92f-fb79-4e35-973b-48c7d4cfb623",
   "metadata": {},
   "outputs": [
    {
     "data": {
      "text/plain": [
       "18"
      ]
     },
     "execution_count": 33,
     "metadata": {},
     "output_type": "execute_result"
    }
   ],
   "source": [
    "len(pd.unique(county_industry['naics']))"
   ]
  },
  {
   "cell_type": "markdown",
   "id": "2642d093-c6fe-4275-84c1-d27352c15079",
   "metadata": {},
   "source": [
    "# There are 18 industries making up the majority for each county"
   ]
  },
  {
   "cell_type": "code",
   "execution_count": 34,
   "id": "aa4791e5-c607-4744-a035-78b11753a51c",
   "metadata": {},
   "outputs": [
    {
     "data": {
      "text/plain": [
       "Health Care and Social Assistance                                           1207\n",
       "Manufacturing                                                                966\n",
       "Retail Trade                                                                 442\n",
       "Accommodation and Food Services                                              222\n",
       "Mining, Quarrying, and Oil and Gas Extraction                                 68\n",
       "Construction                                                                  61\n",
       "Transportation and Warehousing                                                40\n",
       "Professional, Scientific, and Technical Services                              39\n",
       "Wholesale Trade                                                               22\n",
       "Administrative and Support and Waste Management and Remediation Services      16\n",
       "Educational Services                                                          14\n",
       "Utilities                                                                     12\n",
       "Finance and Insurance                                                          8\n",
       "Agriculture, Forestry, Fishing and Hunting                                     7\n",
       "Arts, Entertainment, and Recreation                                            6\n",
       "Management of Companies and Enterprises                                        5\n",
       "Other Services (except Public Administration)                                  4\n",
       "Information                                                                    3\n",
       "Name: naics, dtype: int64"
      ]
     },
     "execution_count": 34,
     "metadata": {},
     "output_type": "execute_result"
    }
   ],
   "source": [
    "county_industry['naics'].value_counts()"
   ]
  },
  {
   "cell_type": "code",
   "execution_count": null,
   "id": "3bd40315-8a2e-488e-bcab-334206404e7d",
   "metadata": {},
   "outputs": [],
   "source": []
  }
 ],
 "metadata": {
  "kernelspec": {
   "display_name": "Python 3 (ipykernel)",
   "language": "python",
   "name": "python3"
  },
  "language_info": {
   "codemirror_mode": {
    "name": "ipython",
    "version": 3
   },
   "file_extension": ".py",
   "mimetype": "text/x-python",
   "name": "python",
   "nbconvert_exporter": "python",
   "pygments_lexer": "ipython3",
   "version": "3.8.13"
  }
 },
 "nbformat": 4,
 "nbformat_minor": 5
}
